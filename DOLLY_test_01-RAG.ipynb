{
  "cells": [
    {
      "cell_type": "markdown",
      "source": [
        "# Reading PDF papers\n",
        "##### All the downloaded academic papers are about \"Leader Election in Distributed Computing Systems\"\n",
        "The papers have been downloaded from **arXiv**\n",
        "\n",
        "<img src=\"https://info.arxiv.org/brand/images/brand-logo-primary.jpg\" width=\"250\" />\n"
      ],
      "metadata": {
        "id": "ipTBDspf-d0B"
      }
    },
    {
      "cell_type": "code",
      "execution_count": null,
      "metadata": {
        "id": "PCrBi94qAfFY"
      },
      "outputs": [],
      "source": [
        "!pip install PyPDF2"
      ]
    },
    {
      "cell_type": "markdown",
      "source": [],
      "metadata": {
        "id": "g7D9ph12-yeJ"
      }
    },
    {
      "cell_type": "code",
      "source": [
        "import PyPDF2\n",
        "from tqdm import tqdm\n",
        "import os\n",
        "\n",
        "\n",
        "def divide_chunks(text_body, min_chunk_size=300, max_chunk_size=1000):\n",
        "    in_chunks = text_body.split(\".\\n\")\n",
        "    out_chunks = []\n",
        "    curr_chunk = \"\"\n",
        "    for ic in in_chunks:\n",
        "        if len(ic) < min_chunk_size:\n",
        "            if len(ic)+len(curr_chunk) < max_chunk_size:\n",
        "                curr_chunk = curr_chunk + \"\\n\" + ic\n",
        "            else:\n",
        "                out_chunks.append(curr_chunk)\n",
        "                curr_chunk = \"\"\n",
        "    return out_chunks\n",
        "\n",
        "\n",
        "def clean_chunk(raw_chunk):\n",
        "    chunk = raw_chunk.replace('-\\n','').replace('\\n',' ')\n",
        "    return chunk\n",
        "\n",
        "\n",
        "pdf_paths = [x for x in os.listdir(\"/media\") if \".pdf\" in x]\n",
        "\n",
        "print(\"\\n\".join(pdf_paths))\n",
        "\n",
        "bodies = []\n",
        "titles = []\n",
        "\n",
        "for pdf_path in pdf_paths:\n",
        "    with open(f\"/media/{pdf_path}\", \"rb\") as file:\n",
        "        reader = PyPDF2.PdfReader(file)\n",
        "        body = \"\"\n",
        "        for page in tqdm(reader.pages):\n",
        "            text = page.extract_text()\n",
        "            body += \"\\n\\n\" + text\n",
        "        bodies.append(body.strip())\n",
        "        titles.append(pdf_path.strip())\n",
        "\n",
        "chunk_list = []\n",
        "for body in bodies:\n",
        "    chunks = [clean_chunk(c) for c in divide_chunks(body)[1:]]\n",
        "    chunk_list.append(chunks)\n",
        "\n",
        "print(\"\\n\\n\".join(chunk_list[3]))"
      ],
      "metadata": {
        "colab": {
          "base_uri": "https://localhost:8080/"
        },
        "id": "NoxL11DztbtB",
        "outputId": "ace70be8-9519-40ca-f06f-e064a7a357de"
      },
      "execution_count": 35,
      "outputs": [
        {
          "output_type": "stream",
          "name": "stdout",
          "text": [
            "Distributed Consensus in Content Centric Networking.pdf\n",
            "Fault Toleran Leader Election in Distributed Systems.pdf\n",
            "Improved Tradeoffs for Leader Election.pdf\n",
            "A Survey and Taxonomy of Leader Election Algorithms in Distributed Systems.pdf\n",
            "Modified Bully Algorithm using Election.pdf\n",
            "ZePoP A Distributed Leader Election Protocol using the Delay-based Closeness Centrality for Peer-to-Peer Applications.pdf\n",
            "Improved Bully Election Algorithm for Distributed Systems.pdf\n"
          ]
        },
        {
          "output_type": "stream",
          "name": "stderr",
          "text": [
            "100%|██████████| 3/3 [00:00<00:00, 27.32it/s]\n",
            "100%|██████████| 8/8 [00:00<00:00, 28.22it/s]\n",
            "100%|██████████| 33/33 [00:04<00:00,  7.46it/s]\n",
            "100%|██████████| 17/17 [00:00<00:00, 25.63it/s]\n",
            "100%|██████████| 8/8 [00:00<00:00, 18.87it/s]\n",
            "100%|██████████| 9/9 [00:01<00:00,  4.96it/s]\n",
            "100%|██████████| 22/22 [00:00<00:00, 32.30it/s]"
          ]
        },
        {
          "output_type": "stream",
          "name": "stdout",
          "text": [
            " Then t time slot with the probability of  Would not be successful is equivalent to Then, t=e.ln f Theorem 2: if probability series be D∞ [log u] with minimum probability of 1-1/f (for each f>=1) algorithm will  be finished in time gap of log f [log u]. To prove the details  of the algorithm refer article10 If the channel state be null, a binary search in [0, 2t2]  that is the same as Broadcast (2t2/ 4) is executed.If the channel state be null, a binary search in [2t2/ 2, 2t] that is the same as Broadcast ( 3_ 4, 2t2) is executed else if the status of the channel is GOLLISION then the stations that have not transmitted become inactive Table 1 shows leader election protocols along with  their implementation time-order Figure 2. Convergence time (a) Malpani algorithm,  (b) Derhab Algorithm\n",
            "\n",
            " Figure 2 shows the comparison of Convergence  time of Malpani and Derhab algorithm. Section a is for  Malpani algorithm and section b is for Derhab algorithm.  As you can see, Derhab algorithm with time difference of  10 to 100 times terminates faster than Malpani algorithm Figure 3. LEAA algorithm Based on Dijkstra and Sholten  algorithm4 In Figure 5, leader election process has been shown.  As you can see, the process is like LEAA. In this Figure,  value -1 indicates null or lack of existing candidates on  that five places. First element leader, that is the most valuable node, is elected Figure 5. Leader election process in CBLEEA {5} The working of the algorithm is shown in Figures 6  and 7. In Figure 6, initial algorithm in this algorithm is  shown and Figure 7 shows the resulted tree after algorithm running. In some situations these algorithms can  even be used for hierarchy election\n",
            "\n",
            " 2. The node that does not have any unvisited node in its  neighborhood, just have one transfer node. Goes to  visited state and sends a message to transfer node. if  number of nodes was more than one, sends the message to a node with higher priority • Failure of white nodes: in the first phase, a node  removes an adjacent node from its neighbors list until avoid the unlimited expect for vote message arrival of  that node 6.  Review of the proposed  algorithm Third state: when we do not have any information  about number of nodes and their states. This algorithm  has the time-order of O(log n) 8. References  1.  Fill JA, Mahmoud HM, Szpankowski W . On the distribution for the duration of a randomized leader election algorithm. Ann Appl Probab. 1996; 6(4):1260–83  2.  Janson S, kowski WS. Analysis of an asymmetric leader  election algorithm electronic. Electron J Combinator. 1997;  4(1):1–16\n",
            "\n",
            "  4.  Vasudevan S, Kurose J, Towsley D. Design and analysis of a leader election algorithm for mobile ad hoc networks.  Proceedings of the 12th International conference on net-work protocols; 1987. p. 350–60  5.  Rahman M, Abdullah_Al_Wadud M, Chae O. Performance analysis of leader election algorithms in mobile ad hoc networks. International Journal of Computer Science and Network Security. 2008; 8(2)  8.  Nakano K, Olariu S. Randomized O(log logn)_ round  leader election protocols in radio networks. Process of International Symposium on Algorithms and Computation. (lncs 1533); 1998. p. 209–18  9.  K.Nakano and S.Olariu(2000), \"A Randomized leader elec-tion protocols for ad hoc Networks\"  SIROCCO,  Carleton Scientific pp: 253-267 10.  Nakano K, Olariu S. Randomized Leader election protocols in radio networks with no collision detection. Lect Notes Comput Sci. 2000; 1969:362–73\n",
            "\n",
            " 12.  Raychoudhury V , Cao J, WUIOP W . K leader election in  wireless ad network. Proceeding IEEE 17th international Conference on Computer Communications and Networks (ICCCN); 2008. p. 87–92 13.  Park VD, Corson MS. A highly adaptive distributed routing algorithm for mobile wireless networks. INFOCOM '97. Sixteenth Annual Joint Conference of the IEEE Computer and Communications Societies. Driving the Information Revolution; 1997 14.  Dagdeviren O, Erciyes K. A hierarchical - leader election pro-tocol for mobile ad hoc networks. ICCSvol.5101-509-518; 2008 17.  Zhang G, Chen J, Zhang Y , Liu C. Research of asynchronous leader election algorithm on hierarchy ad hoc network. Proceedings of the 5th international Conference on wire-less Communications. Networking and Mobile Computing.   2009 Sep 24–26. p. 2929–32\n"
          ]
        },
        {
          "output_type": "stream",
          "name": "stderr",
          "text": [
            "\n"
          ]
        }
      ]
    },
    {
      "cell_type": "markdown",
      "source": [
        "# Embeddings\n",
        "##### Multidimensional Vector Representation of Semantic Meanings\n",
        "<img src=\"https://corpling.hypotheses.org/files/2018/04/Screen-Shot-2018-04-25-at-13.21.44.png\" width=\"400\" />\n",
        "\n"
      ],
      "metadata": {
        "id": "uippeKh9-s0-"
      }
    },
    {
      "cell_type": "code",
      "source": [
        "!pip install sentence_transformers"
      ],
      "metadata": {
        "id": "NzykJHnWuXG3"
      },
      "execution_count": null,
      "outputs": []
    },
    {
      "cell_type": "code",
      "source": [
        "from sentence_transformers import SentenceTransformer\n",
        "import itertools\n",
        "\n",
        "model_name = \"sentence-transformers/all-MiniLM-L12-v2\"\n",
        "\n",
        "model = SentenceTransformer(model_name)\n",
        "\n",
        "sentences = list(itertools.chain(*chunk_list))\n",
        "\n",
        "embeddings = [[float(x) for x in model.encode(s)] for s in sentences]"
      ],
      "metadata": {
        "id": "rZkRMNqFuEpW"
      },
      "execution_count": 37,
      "outputs": []
    },
    {
      "cell_type": "markdown",
      "source": [
        "# Database\n",
        "##### Creating a Vector Database of Embeddings using the open-source ChromaDB\n",
        "<img src=\"https://www.mlq.ai/content/images/2023/08/1_admwyPyR6v_IZI0EYE--eA-1.webp\" width=\"250\" />\n"
      ],
      "metadata": {
        "id": "9Moc8O42-7VB"
      }
    },
    {
      "cell_type": "code",
      "source": [
        "!pip install chromadb"
      ],
      "metadata": {
        "id": "i8TPFTQBuQzE"
      },
      "execution_count": null,
      "outputs": []
    },
    {
      "cell_type": "markdown",
      "source": [],
      "metadata": {
        "id": "GTqUuxL0--hA"
      }
    },
    {
      "cell_type": "code",
      "source": [
        "import chromadb\n",
        "from chromadb.utils import embedding_functions\n",
        "\n",
        "\n",
        "chroma_client = chromadb.Client()\n",
        "\n",
        "default_ef = embedding_functions.DefaultEmbeddingFunction()\n",
        "\n",
        "collection = chroma_client.get_or_create_collection(name=\"leader_election_distributed_systems\", embedding_function=default_ef)\n",
        "\n",
        "collection.add(\n",
        "    documents=sentences,\n",
        "    embeddings=embeddings,\n",
        "    ids=[str(x) for x in range(len(embeddings))]\n",
        ")"
      ],
      "metadata": {
        "id": "1VzvtE3juTzw"
      },
      "execution_count": null,
      "outputs": []
    },
    {
      "cell_type": "markdown",
      "source": [
        "# ChatBot\n",
        "##### Using the open-source Databricks' Dolly model fine-tuned through the RAG techinique\n",
        "<img src=\"https://www.databricks.com/sites/default/files/2023-04/Dolly-logo.png\" width=\"300\" />"
      ],
      "metadata": {
        "id": "-xd4Z4xV-_qb"
      }
    },
    {
      "cell_type": "code",
      "source": [
        "!pip install transformers torch langchain"
      ],
      "metadata": {
        "id": "oY1hnkfPukaf"
      },
      "execution_count": null,
      "outputs": []
    },
    {
      "cell_type": "code",
      "source": [
        "from transformers import pipeline\n",
        "import torch\n",
        "from langchain import PromptTemplate\n",
        "from langchain.llms import HuggingFacePipeline\n",
        "from langchain.chains.question_answering import load_qa_chain\n",
        "\n",
        "\n",
        "def build_qa_chain():\n",
        "\n",
        "    model_name = \"databricks/dolly-v2-3b\" # Dolly smallest version (3 billion params)\n",
        "\n",
        "    instruct_pipeline = pipeline(model=model_name, torch_dtype=torch.bfloat16, trust_remote_code=True,\n",
        "                                 return_full_text=True, max_new_tokens=4096, top_p=0.95, top_k=50,\n",
        "                                 device=0) #cuda\n",
        "\n",
        "    template = \"\"\"Below is an instruction that describes a task. Write a response that appropriately completes the request.\n",
        "\n",
        "    Instruction:\n",
        "    You are an expert about leader election algorithms in distributed systems.\n",
        "    You use a simple language to explain concepts.\n",
        "    You reply using only short textual descriptions, no images.\n",
        "\n",
        "    {context}\n",
        "\n",
        "    Question: {question}\n",
        "\n",
        "    Response:\n",
        "    \"\"\"\n",
        "\n",
        "    prompt = PromptTemplate(input_variables=['context', 'question'], template=template)\n",
        "\n",
        "    hf_pipe = HuggingFacePipeline(pipeline=instruct_pipeline)\n",
        "\n",
        "    return load_qa_chain(llm=hf_pipe, chain_type=\"stuff\", prompt=prompt, verbose=True)"
      ],
      "metadata": {
        "id": "XID971AQuc9e"
      },
      "execution_count": 45,
      "outputs": []
    },
    {
      "cell_type": "code",
      "source": [
        "# Building the chain will load Dolly and can take several minutes depending on the model size\n",
        "qa_chain = build_qa_chain()"
      ],
      "metadata": {
        "id": "pyB79q-Euz_4"
      },
      "execution_count": 46,
      "outputs": []
    },
    {
      "cell_type": "code",
      "source": [
        "class Document():\n",
        "    def __init__(self, content):\n",
        "        self.page_content = content\n",
        "        self.metadata = {\"metadata\": \"\"}\n",
        "\n",
        "def get_similar_docs(question):\n",
        "    results = collection.query(\n",
        "        query_embeddings=[float(x) for x in model.encode(question)],\n",
        "        n_results=3\n",
        "    )\n",
        "    return results[\"documents\"]\n",
        "\n",
        "def answer_question(question):\n",
        "    similar_docs = [Document(x) for x in get_similar_docs(question)]\n",
        "    result = qa_chain({\"input_documents\": similar_docs, \"question\": question})\n",
        "    return result"
      ],
      "metadata": {
        "id": "Td5HhO8zu4dj"
      },
      "execution_count": 47,
      "outputs": []
    },
    {
      "cell_type": "code",
      "source": [
        "import os\n",
        "os.environ['CURL_CA_BUNDLE'] = ''\n",
        "\n",
        "question = \"Why distributed systems need a leader?\"\n",
        "\n",
        "answer = answer_question(question)"
      ],
      "metadata": {
        "colab": {
          "base_uri": "https://localhost:8080/"
        },
        "id": "oYuGruyeu8pb",
        "outputId": "10144f8a-6fd5-4b07-b363-96f5b5f92365"
      },
      "execution_count": 51,
      "outputs": [
        {
          "output_type": "stream",
          "name": "stdout",
          "text": [
            "\n",
            "\n",
            "\u001b[1m> Entering new StuffDocumentsChain chain...\u001b[0m\n",
            "\n",
            "\n",
            "\u001b[1m> Entering new LLMChain chain...\u001b[0m\n",
            "Prompt after formatting:\n",
            "\u001b[32;1m\u001b[1;3mBelow is an instruction that describes a task. Write a response that appropriately completes the request.\n",
            "    \n",
            "    Instruction: \n",
            "    You are an expert about leader election algorithms in distributed systems.\n",
            "    You use a simple language to explain concepts.\n",
            "    You reply using only short textual descriptions, no images.\n",
            "    \n",
            "    [' [14] Shay Kutten,William K MosesJr,GopalPandurangan, and David Peleg. 2020. Singularly OptimalRandomized Leader Election.In 34th InternationalSymposiumonDistributedComputing  [15] Shay Kutten, Gopal Pandurangan, David Peleg, Peter Rob inson, and Amitabh Trehan. 2015. On the complexity of universal leaderelection. Journalof theACM (JACM) 62,1 (2015),1–27 [16] Shay Kutten, Gopal Pandurangan, David Peleg, Peter Rob inson, and Amitabh Trehan. 2015. Sublinear bounds for randomizedleader election. TheoreticalComputerScience 561(2015),134–143 [17] Gérard LeLann. 1977. DistributedSystems-Towards a Fo rmalApproach..In IFIP congress ,Vol.7.Toronto,155–160 [18] Nancy ALynch. 1996. Distributedalgorithms . Elsevier [19] Erik Nygren, Ramesh K Sitaraman, and Jennifer Sun. 2010 . The akamai network: a platform for high-performance internet applications. ACM SIGOPSOperatingSystemsReview 44,3 (2010),2–19 [20] David Peleg. 2000. Distributedcomputing:a locality-sensitiveapproach . SIAM', ' 8. M Zargarnataj. New Election Algorithm based on Assistant in Distributed Systems, IEEE International Conference on Computer Systems and Applications , pages 324–331, 2007 9. H Garcia-Molina. Elections in Distributed Computing System, IEEE Transaction on Computers , 310:48-59, 1982 10. Chang Ben Ari. Principles of Concurrent and Distributed Programming, Pearson Education , 2nd edition, 2006 11. AndrewS Tanenbaum. Distributed Systems Principles and Paradigms, Beijing: Tsinghua University Press , 2008 12. G Le Lan. Distributed System Towards a Formal Approach, Information Processing, The Netherlands: North-Holland , pages 155–160, 1977 13. Sung-Hoon-Park. A Probablistically Correct Election Protocol in Asynchronous Distributed System, APPT, LNCS , 310, pages 177–183, 2003', ' Result of this analysis clearly shows that modiﬁed algorithm is better than bully algorithm with fewer message passing and the fewer stages REFERENCES 1. M.R Eﬀat Parvar, “Improved Algorithms for Leader Election in Distributed Systems,” in 2nd International Conference on Computer Engineering and Technology (ICCET) , 2010 2. Sandipan Basu, “An Eﬃcient Approach of Election Algori thm in Distributed Systems,” Indian Journal of Computer Science and Engineering (IJCSE) , vol. 2, pp. 16–21, 2011 3. Muhammad Mahbubur Rahman and Afroza Nahar, “Modiﬁed Bully Algorithm using Election Commission,” MASAUM Journal of Computing(MJC) , vol. 1, no. 3, pp. 439–446, October 2009 4. Chang-Young Kim and Sung-Hoon Bauk, “The Election Protocol for Reconﬁgurable Distributed Systems,” in International Conference on Wireless Networks (ICWN) , pp 295–301, 2006']\n",
            "    \n",
            "    Question: Why distributed systems need a leader?\n",
            "    \n",
            "    Response:\n",
            "    \u001b[0m\n",
            "\n",
            "\u001b[1m> Finished chain.\u001b[0m\n",
            "\n",
            "\u001b[1m> Finished chain.\u001b[0m\n"
          ]
        }
      ]
    },
    {
      "cell_type": "code",
      "source": [
        "print(answer[\"output_text\"])"
      ],
      "metadata": {
        "colab": {
          "base_uri": "https://localhost:8080/"
        },
        "id": "CMtpkvplvETU",
        "outputId": "7807bca2-c76b-49f2-b31b-614e53e4ec9c"
      },
      "execution_count": 52,
      "outputs": [
        {
          "output_type": "stream",
          "name": "stdout",
          "text": [
            "\n",
            "Leader election is required to maintain the integrity of the system.\n",
            "In a distributed system, the communication amongst the components is not only limited, but also asynchronous. As a result, there is no global point of coordination. In such a setup, who will be the master, who will be the slave, or who will be the leader? A leader is expected to bring all the slaves together under it.\n",
            "There are various leader election algorithms like singly-probetical single leader election, k-approval, etc. \n",
            "For a leader election to be successful, it is very important to ensure that only one leader can claim the election, and that leader can claim the election only if all the slaves accept it.\n",
            "There are several factors that can affect the success of a leader election algorithm. \n",
            "    \n",
            "    - Communication: in a distributed system, the communication amongst the components is not only limited, but also asynchronous. As a result, there is no global point of coordination. In such a setup, there is a possibility that a different leader may be able to be formed by a component which has faster communication capabilities, or which is a component which is more readily available to the others.\n",
            "    - Processing Power: the components have limited processing power, or the processing power is shared amongst the components. In such a setup, it becomes difficult to ensure that a new leader can be formed.\n",
            "    - State of the system: the system may be in a state where it is not able to decide who will be the leader. In such a setup, it becomes difficult for the algorithm to decide who will be the leader.\n",
            "    - Security: in a system with security implications, it is also important to ensure that no other component can claim the leader election. In such a setup, there is a possibility that a malicious component can be able to claim the election for itself.\n"
          ]
        }
      ]
    }
  ],
  "metadata": {
    "accelerator": "GPU",
    "colab": {
      "machine_shape": "hm",
      "provenance": [],
      "gpuType": "V100",
      "gpuClass": "premium"
    },
    "kernelspec": {
      "display_name": "Python 3",
      "name": "python3"
    },
    "language_info": {
      "name": "python"
    }
  },
  "nbformat": 4,
  "nbformat_minor": 0
}