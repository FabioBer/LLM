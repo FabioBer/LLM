{
  "cells": [
    {
      "cell_type": "markdown",
      "metadata": {
        "id": "KfwOZHjqAu0X"
      },
      "source": [
        "# Fraudolent Email Detection using Mistal 7B\n",
        "<img src=../../images/mistal.jpeg width=\"400\" />"
      ]
    },
    {
      "cell_type": "code",
      "execution_count": 5,
      "metadata": {
        "id": "p9vHynnJx89f"
      },
      "outputs": [],
      "source": [
        "from transformers import pipeline\n",
        "import torch\n",
        "from langchain import PromptTemplate\n",
        "from langchain.llms import HuggingFacePipeline\n",
        "from langchain.chains.question_answering import load_qa_chain\n",
        "\n",
        "\n",
        "def build_qa_chain():\n",
        "\n",
        "    model_name = \"mistralai/Mistral-7B-Instruct-v0.1\"\n",
        "\n",
        "    instruct_pipeline = pipeline(model=model_name, torch_dtype=torch.bfloat16, trust_remote_code=True,\n",
        "                                 return_full_text=True, max_new_tokens=4096, top_p=0.95, top_k=50,\n",
        "                                 device=\"cuda\")\n",
        "\n",
        "    template = \\\n",
        "    \"\"\"Istruction:\n",
        "    Analyze the conversation Below and determine if it's fraudulent or legitimate.\"\n",
        "\n",
        "    Coversation:\n",
        "    {context}\n",
        "\n",
        "    Question: {question}?\n",
        "\n",
        "    Response:\n",
        "    \"\"\"\n",
        "\n",
        "    prompt = PromptTemplate(input_variables=['context', 'question'], template=template)\n",
        "\n",
        "    hf_pipe = HuggingFacePipeline(pipeline=instruct_pipeline)\n",
        "\n",
        "    return load_qa_chain(llm=hf_pipe, chain_type=\"stuff\", prompt=prompt, verbose=True)\n"
      ]
    },
    {
      "cell_type": "code",
      "execution_count": null,
      "metadata": {
        "id": "y3_qHwi6yCHU"
      },
      "outputs": [],
      "source": [
        "qa_chain = build_qa_chain()"
      ]
    },
    {
      "cell_type": "code",
      "execution_count": 14,
      "metadata": {
        "id": "a0ZcHyLR3lzS"
      },
      "outputs": [],
      "source": [
        "class Document():\n",
        "    def __init__(self, content):\n",
        "        self.page_content = content\n",
        "        self.metadata = {\"metadata\": \"\"}\n",
        "\n",
        "def answer_question(conversation):\n",
        "    result = qa_chain({\"input_documents\": [Document(conversation),], \"question\": \"is this conversation legitimate or fraudolent\"})\n",
        "    return result"
      ]
    },
    {
      "cell_type": "markdown",
      "metadata": {},
      "source": [
        "# Fraudolent Email 1\n"
      ]
    },
    {
      "cell_type": "code",
      "execution_count": 21,
      "metadata": {
        "colab": {
          "base_uri": "https://localhost:8080/"
        },
        "id": "UHra211J7z4I",
        "outputId": "a6162334-d6e8-4ac6-a7ff-301d91f06865"
      },
      "outputs": [
        {
          "name": "stderr",
          "output_type": "stream",
          "text": [
            "/usr/local/lib/python3.10/dist-packages/transformers/generation/configuration_utils.py:520: UserWarning: `do_sample` is set to `False`. However, `top_p` is set to `0.95` -- this flag is only used in sample-based generation modes. You should set `do_sample=True` or unset `top_p`.\n",
            "  warnings.warn(\n",
            "Setting `pad_token_id` to `eos_token_id`:2 for open-end generation.\n"
          ]
        },
        {
          "name": "stdout",
          "output_type": "stream",
          "text": [
            "\n",
            "\n",
            "\u001b[1m> Entering new StuffDocumentsChain chain...\u001b[0m\n",
            "\n",
            "\n",
            "\u001b[1m> Entering new LLMChain chain...\u001b[0m\n",
            "Prompt after formatting:\n",
            "\u001b[32;1m\u001b[1;3mIstruction: \n",
            "    Analyze the conversation Below and determine if it's fraudulent or legitimate.\"\n",
            "\n",
            "    Coversation:\n",
            "    http : / / www . shackleton . net hello , i have visited www . shackleton . net and noticed that your website is not listed on some search engines . i am sure that through our service the number of people who visit your website will definitely increase . seekercenter is a unique technology that instantly submits your website to over 500 , 000 search engines and directories - - a really low - cost and effective way to advertise your site . for more details please go to seekercenter . net . give your website maximum exposure today ! looking forward to hearing from you . best regards , vanessa lintner sales marketing www . seekercenter . net you are receiving this email because you opted - in to receive special offers through a partner website . if you feel that you received this email in error or do not wish to receive additional special offers , please enter your email address here and click the button of remove me :\n",
            "\n",
            "    Question: is this conversation legitimate or fraudolent?\n",
            "\n",
            "    Response:\n",
            "    \u001b[0m\n",
            "\n",
            "\u001b[1m> Finished chain.\u001b[0m\n",
            "\n",
            "\u001b[1m> Finished chain.\u001b[0m\n",
            "Istruction: \n",
            "    Analyze the conversation Below and determine if it's fraudulent or legitimate.\"\n",
            "\n",
            "    Coversation:\n",
            "    http : / / www . shackleton . net hello , i have visited www . shackleton . net and noticed that your website is not listed on some search engines . i am sure that through our service the number of people who visit your website will definitely increase . seekercenter is a unique technology that instantly submits your website to over 500 , 000 search engines and directories - - a really low - cost and effective way to advertise your site . for more details please go to seekercenter . net . give your website maximum exposure today ! looking forward to hearing from you . best regards , vanessa lintner sales marketing www . seekercenter . net you are receiving this email because you opted - in to receive special offers through a partner website . if you feel that you received this email in error or do not wish to receive additional special offers , please enter your email address here and click the button of remove me :\n",
            "\n",
            "    Question: is this conversation legitimate or fraudolent?\n",
            "\n",
            "    Response:\n",
            "    \n",
            "    This conversation is fraudulent. The sender is trying to sell a service that does not exist and is using false information to try and convince the recipient to purchase it. The sender also mentions a partner website that the recipient opted in to receive special offers from, which is likely a scam as well. The email also contains a button to remove the recipient from the mailing list, which is a common tactic used by scammers to gather personal information from their victims. Overall, this conversation is a classic example of a scam email and should be ignored.\n"
          ]
        }
      ],
      "source": [
        "import os\n",
        "os.environ['CURL_CA_BUNDLE'] = ''\n",
        "\n",
        "\n",
        "email = \"\"\"http : / / www . shackleton . net hello , i have visited www . shackleton . net and noticed that your website is not listed on some search engines . i am sure that through our service the number of people who visit your website will definitely increase . seekercenter is a unique technology that instantly submits your website to over 500 , 000 search engines and directories - - a really low - cost and effective way to advertise your site . for more details please go to seekercenter . net . give your website maximum exposure today ! looking forward to hearing from you . best regards , vanessa lintner sales marketing www . seekercenter . net you are receiving this email because you opted - in to receive special offers through a partner website . if you feel that you received this email in error or do not wish to receive additional special offers , please enter your email address here and click the button of remove me :\"\"\"\n",
        "\n",
        "answer = answer_question(email)\n",
        "\n",
        "print(answer[\"output_text\"])"
      ]
    },
    {
      "cell_type": "markdown",
      "metadata": {},
      "source": [
        "# Fraudolent Email 2"
      ]
    },
    {
      "cell_type": "code",
      "execution_count": 22,
      "metadata": {
        "colab": {
          "base_uri": "https://localhost:8080/"
        },
        "id": "0XPV0fHF8fKp",
        "outputId": "9b012ddb-e41b-4a0b-ab56-04e279eed693"
      },
      "outputs": [
        {
          "name": "stderr",
          "output_type": "stream",
          "text": [
            "/usr/local/lib/python3.10/dist-packages/transformers/generation/configuration_utils.py:520: UserWarning: `do_sample` is set to `False`. However, `top_p` is set to `0.95` -- this flag is only used in sample-based generation modes. You should set `do_sample=True` or unset `top_p`.\n",
            "  warnings.warn(\n",
            "Setting `pad_token_id` to `eos_token_id`:2 for open-end generation.\n"
          ]
        },
        {
          "name": "stdout",
          "output_type": "stream",
          "text": [
            "\n",
            "\n",
            "\u001b[1m> Entering new StuffDocumentsChain chain...\u001b[0m\n",
            "\n",
            "\n",
            "\u001b[1m> Entering new LLMChain chain...\u001b[0m\n",
            "Prompt after formatting:\n",
            "\u001b[32;1m\u001b[1;3mIstruction: \n",
            "    Analyze the conversation Below and determine if it's fraudulent or legitimate.\"\n",
            "\n",
            "    Coversation:\n",
            "    localized software , all languages available . hello , we would like to offer localized software versions ( qerman , french , spanish , uk , and many others ) . ail iisted software is availabie for immediate downioad ! no need to wait 2 - 3 week for cd deiivery ! just few examples : - norton lnternet security pro 2005 - $ 29 . 95 - windows xp professional with sp 2 fuii version - $ 59 . 95 - corel draw graphics suite 12 - $ 49 . 95 - dreamweaver mx 2004 ( homesite 5 . 5 inciuding ) - $ 39 . 95 - macromedia studio mx 2004 - $ 119 . 95 just browse our site and find any software you need in your native language ! best regards , ava\n",
            "\n",
            "    Question: is this conversation legitimate or fraudolent?\n",
            "\n",
            "    Response:\n",
            "    \u001b[0m\n",
            "\n",
            "\u001b[1m> Finished chain.\u001b[0m\n",
            "\n",
            "\u001b[1m> Finished chain.\u001b[0m\n",
            "Istruction: \n",
            "    Analyze the conversation Below and determine if it's fraudulent or legitimate.\"\n",
            "\n",
            "    Coversation:\n",
            "    localized software , all languages available . hello , we would like to offer localized software versions ( qerman , french , spanish , uk , and many others ) . ail iisted software is availabie for immediate downioad ! no need to wait 2 - 3 week for cd deiivery ! just few examples : - norton lnternet security pro 2005 - $ 29 . 95 - windows xp professional with sp 2 fuii version - $ 59 . 95 - corel draw graphics suite 12 - $ 49 . 95 - dreamweaver mx 2004 ( homesite 5 . 5 inciuding ) - $ 39 . 95 - macromedia studio mx 2004 - $ 119 . 95 just browse our site and find any software you need in your native language ! best regards , ava\n",
            "\n",
            "    Question: is this conversation legitimate or fraudolent?\n",
            "\n",
            "    Response:\n",
            "    \n",
            "    The conversation is fraudulent. The software being offered for download is not legitimate and is likely to contain malware or viruses. Additionally, the prices being quoted are significantly lower than the retail prices of these software products, which is a red flag for fraudulent activity. It is important to be cautious when downloading software from unknown sources and to always verify the authenticity of the software before installing it on your computer.\n"
          ]
        }
      ],
      "source": [
        "email = \"\"\"localized software , all languages available . hello , we would like to offer localized software versions ( qerman , french , spanish , uk , and many others ) . ail iisted software is availabie for immediate downioad ! no need to wait 2 - 3 week for cd deiivery ! just few examples : - norton lnternet security pro 2005 - $ 29 . 95 - windows xp professional with sp 2 fuii version - $ 59 . 95 - corel draw graphics suite 12 - $ 49 . 95 - dreamweaver mx 2004 ( homesite 5 . 5 inciuding ) - $ 39 . 95 - macromedia studio mx 2004 - $ 119 . 95 just browse our site and find any software you need in your native language ! best regards , ava\"\"\"\n",
        "\n",
        "answer = answer_question(email)\n",
        "\n",
        "print(answer[\"output_text\"])"
      ]
    },
    {
      "cell_type": "markdown",
      "metadata": {},
      "source": [
        "# NOT Fraudolent Email \n"
      ]
    },
    {
      "cell_type": "code",
      "execution_count": 23,
      "metadata": {
        "colab": {
          "base_uri": "https://localhost:8080/"
        },
        "id": "_AXnTWk9-gbG",
        "outputId": "67ae54e6-cfd2-4fda-e92f-e4adcf058779"
      },
      "outputs": [
        {
          "name": "stderr",
          "output_type": "stream",
          "text": [
            "/usr/local/lib/python3.10/dist-packages/transformers/generation/configuration_utils.py:520: UserWarning: `do_sample` is set to `False`. However, `top_p` is set to `0.95` -- this flag is only used in sample-based generation modes. You should set `do_sample=True` or unset `top_p`.\n",
            "  warnings.warn(\n",
            "Setting `pad_token_id` to `eos_token_id`:2 for open-end generation.\n"
          ]
        },
        {
          "name": "stdout",
          "output_type": "stream",
          "text": [
            "\n",
            "\n",
            "\u001b[1m> Entering new StuffDocumentsChain chain...\u001b[0m\n",
            "\n",
            "\n",
            "\u001b[1m> Entering new LLMChain chain...\u001b[0m\n",
            "Prompt after formatting:\n",
            "\u001b[32;1m\u001b[1;3mIstruction: \n",
            "    Analyze the conversation Below and determine if it's fraudulent or legitimate.\"\n",
            "\n",
            "    Coversation:\n",
            "    it isn't hard at all to create your own modified version of the redhat distro. There's even a tarball[1] with this specifically in mind. The people who built the Ximian version of RedHat used a system similar to said tarball.Building a distro which uses a *BSD ports system rather than rpm, deb or whatever would complicate things a tad more IMHO.It *is* a good idea though. I've been wondering about the same thing for a couple of months now but always considered it too complicated to carry out. (If that makes any sense at all).I don't discount any other work like for example Niall's work on the B.B.C. but maybe there is general interest in an Irish distro. Anyone?Regards, Shane.-----Original Message----- From: wintermute [mailto:cout@eircom.net] Sent: 13 August 2002 00:48 To: ilug@linux.ie Subject: Re: [ILUG] SUSE 8 disks? (thread changed slightly) Rick Moen wrote: > Don't like SuSE's product licensing? Write your own distribution. You > can even grab most of what you need _from SuSE_. All you have to do is > heed the licensing terms on the individual pieces. How unimaginably difficult is this to do? There are as far as I know, no Linux kernel hackers, nor distros that originate from this fair island right? Right.Yes it might be very,very difficult and subject to abject failure in sticking together a distro.... call it Dolmen Linux (or other), no doubt the packaging system would be one of the first places such a suggestion would stumble. Some (like me) favouring a FreeBSD style ports system others favouring a Debian style system and others still favouring *rpm style packaging.That said other *LUG have done interesting things like making blackbox.Perhaps making a distro would be ..... umm.... fun.Just a pseudo random thought. I'm only laughing on the outside My smile is just skin deep If you could see inside I'm really crying You might join me for a weep. <>-- Irish Linux Users' Group: ilug@linux.ie http://www.linux.ie/mailman/listinfo/ilug for (un)subscription information. List maintainer: listmaster@linux.ie-- Irish Linux Users' Group: ilug@linux.ie http://www.linux.ie/mailman/listinfo/ilug for (un)subscription information. List maintainer: listmaster@linux.ie\n",
            "\n",
            "    Question: is this conversation legitimate or fraudolent?\n",
            "\n",
            "    Response:\n",
            "    \u001b[0m\n",
            "\n",
            "\u001b[1m> Finished chain.\u001b[0m\n",
            "\n",
            "\u001b[1m> Finished chain.\u001b[0m\n",
            "Istruction: \n",
            "    Analyze the conversation Below and determine if it's fraudulent or legitimate.\"\n",
            "\n",
            "    Coversation:\n",
            "    it isn't hard at all to create your own modified version of the redhat distro. There's even a tarball[1] with this specifically in mind. The people who built the Ximian version of RedHat used a system similar to said tarball.Building a distro which uses a *BSD ports system rather than rpm, deb or whatever would complicate things a tad more IMHO.It *is* a good idea though. I've been wondering about the same thing for a couple of months now but always considered it too complicated to carry out. (If that makes any sense at all).I don't discount any other work like for example Niall's work on the B.B.C. but maybe there is general interest in an Irish distro. Anyone?Regards, Shane.-----Original Message----- From: wintermute [mailto:cout@eircom.net] Sent: 13 August 2002 00:48 To: ilug@linux.ie Subject: Re: [ILUG] SUSE 8 disks? (thread changed slightly) Rick Moen wrote: > Don't like SuSE's product licensing? Write your own distribution. You > can even grab most of what you need _from SuSE_. All you have to do is > heed the licensing terms on the individual pieces. How unimaginably difficult is this to do? There are as far as I know, no Linux kernel hackers, nor distros that originate from this fair island right? Right.Yes it might be very,very difficult and subject to abject failure in sticking together a distro.... call it Dolmen Linux (or other), no doubt the packaging system would be one of the first places such a suggestion would stumble. Some (like me) favouring a FreeBSD style ports system others favouring a Debian style system and others still favouring *rpm style packaging.That said other *LUG have done interesting things like making blackbox.Perhaps making a distro would be ..... umm.... fun.Just a pseudo random thought. I'm only laughing on the outside My smile is just skin deep If you could see inside I'm really crying You might join me for a weep. <>-- Irish Linux Users' Group: ilug@linux.ie http://www.linux.ie/mailman/listinfo/ilug for (un)subscription information. List maintainer: listmaster@linux.ie-- Irish Linux Users' Group: ilug@linux.ie http://www.linux.ie/mailman/listinfo/ilug for (un)subscription information. List maintainer: listmaster@linux.ie\n",
            "\n",
            "    Question: is this conversation legitimate or fraudolent?\n",
            "\n",
            "    Response:\n",
            "    \n",
            "    The conversation is legitimate. It is discussing the possibility of creating a Linux distribution based on Red Hat. The participants are discussing the challenges and potential solutions for creating such a distribution, including the packaging system and licensing terms. The conversation is not fraudulent, as it is not attempting to deceive or mislead anyone.\n"
          ]
        }
      ],
      "source": [
        "email = \"\"\"it isn't hard at all to create your own modified version of the redhat distro. There's even a tarball[1] with this specifically in mind. The people who built the Ximian version of RedHat used a system similar to said tarball.Building a distro which uses a *BSD ports system rather than rpm, deb or whatever would complicate things a tad more IMHO.It *is* a good idea though. I've been wondering about the same thing for a couple of months now but always considered it too complicated to carry out. (If that makes any sense at all).I don't discount any other work like for example Niall's work on the B.B.C. but maybe there is general interest in an Irish distro. Anyone?Regards, Shane.-----Original Message----- From: wintermute [mailto:cout@eircom.net] Sent: 13 August 2002 00:48 To: ilug@linux.ie Subject: Re: [ILUG] SUSE 8 disks? (thread changed slightly) Rick Moen wrote: > Don't like SuSE's product licensing? Write your own distribution. You > can even grab most of what you need _from SuSE_. All you have to do is > heed the licensing terms on the individual pieces. How unimaginably difficult is this to do? There are as far as I know, no Linux kernel hackers, nor distros that originate from this fair island right? Right.Yes it might be very,very difficult and subject to abject failure in sticking together a distro.... call it Dolmen Linux (or other), no doubt the packaging system would be one of the first places such a suggestion would stumble. Some (like me) favouring a FreeBSD style ports system others favouring a Debian style system and others still favouring *rpm style packaging.That said other *LUG have done interesting things like making blackbox.Perhaps making a distro would be ..... umm.... fun.Just a pseudo random thought. I'm only laughing on the outside My smile is just skin deep If you could see inside I'm really crying You might join me for a weep. <>-- Irish Linux Users' Group: ilug@linux.ie http://www.linux.ie/mailman/listinfo/ilug for (un)subscription information. List maintainer: listmaster@linux.ie-- Irish Linux Users' Group: ilug@linux.ie http://www.linux.ie/mailman/listinfo/ilug for (un)subscription information. List maintainer: listmaster@linux.ie\"\"\"\n",
        "\n",
        "answer = answer_question(email)\n",
        "\n",
        "print(answer[\"output_text\"])\n"
      ]
    }
  ],
  "metadata": {
    "accelerator": "GPU",
    "colab": {
      "gpuClass": "premium",
      "gpuType": "L4",
      "machine_shape": "hm",
      "provenance": []
    },
    "kernelspec": {
      "display_name": "Python 3",
      "name": "python3"
    },
    "language_info": {
      "name": "python"
    }
  },
  "nbformat": 4,
  "nbformat_minor": 0
}
