{
  "cells": [
    {
      "cell_type": "markdown",
      "source": [
        "# Experiment Architecture\n",
        "## RAG (Retrieval Augmented Generation)\n",
        "#### Differences\n",
        "- Delta is not used for data operations in this experiment\n",
        "- The input data are PDF not XML files\n",
        "#### Problem Statement\n",
        "- We want to get Dolly knowledgeable about Leader Election in Distributed Computing Systems\n",
        "#### Flow\n",
        "<img src=\"https://raw.githubusercontent.com/databricks-demos/dbdemos-resources/main/images/product/llm-dolly/llm-dolly-full.png\" width=\"1000\" />\n"
      ],
      "metadata": {
        "id": "5_sOwX3jslG_"
      }
    },
    {
      "cell_type": "markdown",
      "source": [
        "# Reading PDF papers\n",
        "##### All the downloaded academic papers are about \"Leader Election in Distributed Computing Systems\"\n",
        "The papers have been downloaded from **arXiv**\n",
        "\n",
        "<img src=\"https://info.arxiv.org/brand/images/brand-logo-primary.jpg\" width=\"250\" />\n"
      ],
      "metadata": {
        "id": "gRjfG9XYsnmc"
      }
    },
    {
      "cell_type": "code",
      "source": [
        "import PyPDF2\n",
        "from tqdm import tqdm\n",
        "import os\n",
        "\n",
        "\n",
        "def clean_chunk(raw_chunk):\n",
        "    chunk = raw_chunk.replace('-\\n','').replace('\\n',' ')\n",
        "    return chunk\n",
        "\n",
        "\n",
        "pdf_paths = [x for x in os.listdir(\"data/pdf/leader_election\") if \".pdf\" in x]\n",
        "\n",
        "print(\"\\n\".join(pdf_paths))\n",
        "\n",
        "bodies = []\n",
        "titles = []\n",
        "\n",
        "for pdf_path in pdf_paths:\n",
        "    with open(f\"data/pdf/leader_election/{pdf_path}\", \"rb\") as file:\n",
        "        reader = PyPDF2.PdfReader(file)\n",
        "        body = []\n",
        "        for page in tqdm(reader.pages):\n",
        "            text = page.extract_text()\n",
        "            body.append(clean_chunk(text))\n",
        "        bodies.append(body[:-1]) # the last page is removed (references)\n",
        "        titles.append(pdf_path)"
      ],
      "metadata": {
        "id": "3Zf3zbz8j0Tz",
        "outputId": "9afccefe-75ec-4534-a28b-401f1c707f98",
        "colab": {
          "base_uri": "https://localhost:8080/"
        }
      },
      "execution_count": 15,
      "outputs": [
        {
          "output_type": "stream",
          "name": "stdout",
          "text": [
            "Modified Bully Algorithm using Election.pdf\n",
            "Improved Bully Election Algorithm for Distributed Systems.pdf\n",
            "Improved Tradeoffs for Leader Election.pdf\n",
            "ZePoP A Distributed Leader Election Protocol using the Delay-based Closeness Centrality for Peer-to-Peer Applications.pdf\n",
            "A Survey and Taxonomy of Leader Election Algorithms in Distributed Systems.pdf\n",
            "Distributed Consensus in Content Centric Networking.pdf\n",
            "Fault Toleran Leader Election in Distributed Systems.pdf\n"
          ]
        },
        {
          "output_type": "stream",
          "name": "stderr",
          "text": [
            "100%|██████████| 8/8 [00:00<00:00, 19.39it/s]\n",
            "100%|██████████| 22/22 [00:00<00:00, 29.85it/s]\n",
            "100%|██████████| 33/33 [00:01<00:00, 19.45it/s]\n",
            "100%|██████████| 9/9 [00:01<00:00,  7.87it/s]\n",
            "100%|██████████| 17/17 [00:00<00:00, 25.29it/s]\n",
            "100%|██████████| 3/3 [00:00<00:00, 26.54it/s]\n",
            "100%|██████████| 8/8 [00:00<00:00, 29.54it/s]\n"
          ]
        }
      ]
    },
    {
      "cell_type": "markdown",
      "source": [
        "# Embeddings\n",
        "##### Multidimensional Vector Representation of Semantic Meanings\n",
        "<img src=\"https://corpling.hypotheses.org/files/2018/04/Screen-Shot-2018-04-25-at-13.21.44.png\" width=\"400\" />"
      ],
      "metadata": {
        "id": "l8Ecj9nRsxF1"
      }
    },
    {
      "cell_type": "code",
      "source": [
        "from sentence_transformers import SentenceTransformer\n",
        "import itertools\n",
        "\n",
        "model_name = \"sentence-transformers/all-MiniLM-L12-v2\"\n",
        "\n",
        "model = SentenceTransformer(model_name, device='cuda')\n",
        "\n",
        "sentences = list(itertools.chain(*bodies))\n",
        "\n",
        "embeddings = [[float(x) for x in model.encode(s)] for s in sentences]"
      ],
      "metadata": {
        "id": "Q7kHmwf9kXjs"
      },
      "execution_count": 18,
      "outputs": []
    },
    {
      "cell_type": "markdown",
      "source": [
        "# Database\n",
        "##### Creating a Vector Database of Embeddings using the open-source ChromaDB\n",
        "<img src=\"https://www.mlq.ai/content/images/2023/08/1_admwyPyR6v_IZI0EYE--eA-1.webp\" width=\"250\" />"
      ],
      "metadata": {
        "id": "ebBsAd-usyya"
      }
    },
    {
      "cell_type": "code",
      "source": [
        "import chromadb\n",
        "from chromadb.utils import embedding_functions\n",
        "\n",
        "\n",
        "chroma_client = chromadb.Client()\n",
        "\n",
        "default_ef = embedding_functions.DefaultEmbeddingFunction()\n",
        "\n",
        "collection = chroma_client.get_or_create_collection(name=\"leader_election_distributed_systems\", embedding_function=default_ef)\n",
        "\n",
        "collection.add(\n",
        "    documents=sentences,\n",
        "    embeddings=embeddings,\n",
        "    ids=[str(x) for x in range(len(embeddings))]\n",
        ")"
      ],
      "metadata": {
        "id": "fNA06mSppSjr"
      },
      "execution_count": 19,
      "outputs": []
    },
    {
      "cell_type": "markdown",
      "source": [
        "# Fine-Tuned Model\n",
        "##### Based on the open-source Databricks' Dolly\n",
        "<img src=\"https://www.databricks.com/sites/default/files/2023-04/Dolly-logo.png\" width=\"300\" />"
      ],
      "metadata": {
        "id": "mmaRTnBls3Wl"
      }
    },
    {
      "cell_type": "code",
      "source": [
        "from transformers import pipeline\n",
        "import torch\n",
        "from langchain import PromptTemplate\n",
        "from langchain.llms import HuggingFacePipeline\n",
        "from langchain.chains.question_answering import load_qa_chain\n",
        "\n",
        "\n",
        "def build_qa_chain():\n",
        "\n",
        "    model_name = \"databricks/dolly-v2-3b\" # Dolly smallest version (3 billion params)\n",
        "\n",
        "    instruct_pipeline = pipeline(model=model_name, torch_dtype=torch.bfloat16, trust_remote_code=True,\n",
        "                                 return_full_text=True, max_new_tokens=4096, top_p=0.95, top_k=50,\n",
        "                                 device='cuda') #cuda\n",
        "\n",
        "    template = \"\"\"Below is an instruction that describes a task. Write a response that appropriately completes the request.\n",
        "\n",
        "    Instruction:\n",
        "    You are an expert about leader election algorithms in distributed systems.\n",
        "    You use a simple language to explain concepts.\n",
        "    You reply using only short textual descriptions, no images.\n",
        "\n",
        "    {context}\n",
        "\n",
        "    Question: {question}\n",
        "\n",
        "    Response:\n",
        "    \"\"\"\n",
        "\n",
        "    prompt = PromptTemplate(input_variables=['context', 'question'], template=template)\n",
        "\n",
        "    hf_pipe = HuggingFacePipeline(pipeline=instruct_pipeline)\n",
        "\n",
        "    return load_qa_chain(llm=hf_pipe, chain_type=\"stuff\", prompt=prompt, verbose=True)"
      ],
      "metadata": {
        "id": "M5iVOUfWpr_b"
      },
      "execution_count": 27,
      "outputs": []
    },
    {
      "cell_type": "code",
      "source": [
        "# Building the chain will load Dolly and can take several minutes depending on the model size\n",
        "qa_chain = build_qa_chain()"
      ],
      "metadata": {
        "id": "29y8FolIpvCc"
      },
      "execution_count": 28,
      "outputs": []
    },
    {
      "cell_type": "code",
      "source": [
        "class Document():\n",
        "    def __init__(self, content):\n",
        "        self.page_content = content\n",
        "        self.metadata = {\"metadata\": \"leader election paper page from arxiv\"}\n",
        "\n",
        "def get_similar_docs(question):\n",
        "    results = collection.query(\n",
        "        query_embeddings=[float(x) for x in model.encode(question)],\n",
        "        n_results=1\n",
        "    )\n",
        "    return results[\"documents\"]\n",
        "\n",
        "def answer_question(question):\n",
        "    similar_docs = [Document(x) for x in get_similar_docs(question)]\n",
        "    result = qa_chain({\"input_documents\": similar_docs, \"question\": question})\n",
        "    return result"
      ],
      "metadata": {
        "id": "wIAX5YRppxhF"
      },
      "execution_count": 29,
      "outputs": []
    },
    {
      "cell_type": "code",
      "source": [
        "import os\n",
        "os.environ['CURL_CA_BUNDLE'] = ''\n",
        "\n",
        "\n",
        "question = \"Why distributed systems need a leader?\"\n",
        "\n",
        "answer = answer_question(question)\n",
        "\n",
        "print(answer[\"output_text\"])"
      ],
      "metadata": {
        "id": "FUmIA71wp8iw",
        "outputId": "76120af4-ead2-4502-fdec-f7564104469c",
        "colab": {
          "base_uri": "https://localhost:8080/"
        }
      },
      "execution_count": 30,
      "outputs": [
        {
          "output_type": "stream",
          "name": "stdout",
          "text": [
            "\n",
            "\n",
            "\u001b[1m> Entering new StuffDocumentsChain chain...\u001b[0m\n",
            "\n",
            "\n",
            "\u001b[1m> Entering new LLMChain chain...\u001b[0m\n",
            "Prompt after formatting:\n",
            "\u001b[32;1m\u001b[1;3mBelow is an instruction that describes a task. Write a response that appropriately completes the request.\n",
            "\n",
            "    Instruction:\n",
            "    You are an expert about leader election algorithms in distributed systems.\n",
            "    You use a simple language to explain concepts.\n",
            "    You reply using only short textual descriptions, no images.\n",
            "\n",
            "    ['International Journal of Computer Science & Informa tion Technology (IJCSIT) Vol 9, No 1, February 2017   DOI:10.5121/ijcsit.2017.9102                                                                                                                        13   FAULT TOLERANT LEADER ELECTION IN  DISTRIBUTED SYSTEMS     Marius Rafailescu    The Faculty of Automatic Control and Computers, POL ITEHNICA University,  Bucharest    ABSTRACT     There are many distributed systems which use a lead er in their logic. When such systems need to be fau lt  tolerant and the current leader suffers a technical  problem, it is necesary to apply a special algorit hm in  order to choose a new leader. In this paper I prese nt a new fault tolerant algorithm which elects a ne w  leader based on a random roulette wheel selection.    KEYWORDS     leader election, fault tolerance, distributed syste ms    1.  INTRODUCTION     Leader  election is a common part of distributed systems. F or instance, we may consider a  distributed database where all the nodes need to re ach the commit consensus. Most of the  algorithms designed for this consensus problem use a node with a special role, the leader. In  Paxos, the author does not present a specific leade r election method [1] and this is why I tried to  define a new fault tolerant algorithm.    In the past, several solutions where developed for synchronous and asynchronous distributed  systems. Garcia-Molina has one important result for  each system [2]. Later on, many other  authors tried to extend/optimize his work [3], [4].     Depending on the network topology, other algorithms  have been presented until today, the Ring  Election Algorithm [5] being one example.    In Raft, a recent consensus protocol for replicated  state machines, is specified an algorithm for  leader election, which is simple and elects a new l eader based on randomized timeouts - the node  with the lowest timeout becomes candidate after the  timeout passes and becomes leader when the  other nodes vote it, in majority [6]. Here, when tw o nodes have (almost) the same timeout,  appears the situation of split votes.     Besides consensus problem, leader election algorith m is a basic component in many protocols,  especially in environments where special tasks in t he network need to be done by a specific node  or where self-organization of network is necessary,  such as wireless ad-hoc networks.    In this paper, the proposed algorithm tries to mini mize the split votes using a stronger candidate  position condition and gives a chance to all nodes because the final leader can differ from the  candidate (more exactly, it can differ from the rou nd of vote coordinator, as described next in  section 2).    The work has been funded by the Sectoral Operationa l Programme Human Resources Development 2007-2013 o f the  Ministry of European Funds through the Financial Ag reement POSDRU 187/1.5/S/155420. ']\n",
            "\n",
            "    Question: Why distributed systems need a leader?\n",
            "\n",
            "    Response:\n",
            "    \u001b[0m\n",
            "\n",
            "\u001b[1m> Finished chain.\u001b[0m\n",
            "\n",
            "\u001b[1m> Finished chain.\u001b[0m\n",
            "\n",
            "Distributed systems are organized in nodes, usually in a network. The nodes communicate with each other but they are not able to communicate with the outside world. A leader is the node which has the responsibility to manage the communication among all the other nodes and to perform special tasks for the system.\n"
          ]
        }
      ]
    },
    {
      "cell_type": "code",
      "source": [
        "question = \"Explain shortly the modified bully algorithm for leader election in distributed systems\"\n",
        "\n",
        "answer = answer_question(question)\n",
        "\n",
        "print(answer[\"output_text\"])"
      ],
      "metadata": {
        "id": "49ZpxVXMqBRX",
        "outputId": "afdd8cf1-6855-44bb-c4b9-0873a1e4683c",
        "colab": {
          "base_uri": "https://localhost:8080/"
        }
      },
      "execution_count": 32,
      "outputs": [
        {
          "output_type": "stream",
          "name": "stdout",
          "text": [
            "\n",
            "\n",
            "\u001b[1m> Entering new StuffDocumentsChain chain...\u001b[0m\n",
            "\n",
            "\n",
            "\u001b[1m> Entering new LLMChain chain...\u001b[0m\n",
            "Prompt after formatting:\n",
            "\u001b[32;1m\u001b[1;3mBelow is an instruction that describes a task. Write a response that appropriately completes the request.\n",
            "\n",
            "    Instruction:\n",
            "    You are an expert about leader election algorithms in distributed systems.\n",
            "    You use a simple language to explain concepts.\n",
            "    You reply using only short textual descriptions, no images.\n",
            "\n",
            "    ['arXiv:1403.3255v1  [cs.DC]  28 Feb 2014Improved Bully Election Algorithm for Distributed Systems P Beaulah Soundarabaia, Ritesh Sahaia, Thriveni Jb, K R Venugopalb, L M Patnaikc aDepartment of Computer Science , Christ University, Bangalore 56 0 029 India, Contact: beaulah.s@christuniversity.in bUniversity Visvesvaraya College of Engineering, Bangalore Universit y, Bangalore. cHonorary Professor, Indian Institute of Science, Bangalore. Electing a leader is a classical problem in distributed comp uting system. Synchronization between processes often requires one process acting as a coordinator. If an ele cted leader node fails, the other nodes of the system need to elect another leader without much wasting of time. Th e bully algorithm is a classical approach for electing a leader in a synchronous distributed computing system, whi ch is used to determine the process with highest priority number as the coordinator. In this paper, we have di scussed the limitations of Bully algorithm and proposed a simple and eﬃcient method for the Bully algorithm which reduces the number of messages during the election. Our analytical simulation shows that, our propos ed algorithm is more eﬃcient than the Bully algorithm with fewer messages passing and fewer stages. Keywords: Bully Algorithm, Distributed Systems, Leader Election, Sy nchronization. 1. INTRODUCTION Distributed computing is a decentralized and parallel computing, using two or more computers communicating over a network to accomplish a common task. Centralized control in distributed systems helps to achieve some speciﬁc goals such as mutual exclusion, synchronization, load balancing, and time scheduling. This type of distributed system often requires a unique node to play the role of leader or coordinator of the other nodes to take care of synchronization. As node crash failure is very common in distributed systems. Failure of a leader node requires special attention and needs extra tasks to elect another one to act as leader. The collaborating processes are often identical. Oneofthe centralproblemsiselectionofaleader. Given a network of processes, exactly one process should take the decision that it is the leader. It is usually required that all non-leader processes are informed or involved in the process of the leader election. A leader election algorithm is one of the basic activities of distributed systems, as it acts as a basis for more complex and high level algo-rithms and applications. An important challenge in distributed systems is the adoption of suitable and eﬃcient algorithms for coordinator election. Themainroleofanelectedcoordinatoristomanage the use of a shared resource in an optimal manner which in turn maintains the coherency of the system even during partial failures. 1.1. Motivation The main drawback of Bully algorithm is more number of message passing. As it is mentioned before the message passing has order O( n2) that increases traﬃc in network. It also has ﬁve stages to decidethe nextleaderwhichwouldwastealots of time for the processes to resume their normal execution. Bully algorithm is a safe way for election; however its traﬃc is relatively high. 1.2. Contribution In this paper, we have proposed a modiﬁed Bully algorithm which preserves all the advantages of the existing algorithm and at the same time eliminates the limitations of it by reducing the number of messages and the the number of stages to elect the next leader. 43']\n",
            "\n",
            "    Question: Explain shortly the modified bully algorithm for leader election in distributed systems\n",
            "\n",
            "    Response:\n",
            "    \u001b[0m\n",
            "\n",
            "\u001b[1m> Finished chain.\u001b[0m\n",
            "\n",
            "\u001b[1m> Finished chain.\u001b[0m\n",
            "\n",
            "The proposed algorithm is based on the existing Bully algorithm. The main improvement lies in the selection of the next leader in the second stage. We consider a graph G consisting of n nodes. The first stage of the existing bully algorithm assigns a node with high priority number as the new leader. Here the priority number of a node is the index of its process in the coordinator list (which is available to the leader). The priority number is the same for all the nodes. So the new leader is one of the nodes with high index. The second stage assigns the remaining nodes in the graph the following sequence of priorities in increasing order. If the new leader did not arrive then assign the second priority value to the first unassigned node. Then assign the first priority value to the second unassigned node and so on. The other requirement for the second stage is to reduce the number of messages, where one message is passed for each pair of nodes and the message contains information about the current leader and the remaining nodes and a counter to maintain the election status. The second stage of the modified algorithm eliminates this requirement by considering a sorted sequence of priorities and if a leader hasn't arrived then assign the sequence from highest priority value to a node. As there is only one leader and only one node is available with it. So there is no need to send the message to all the nodes, only a message is send to the node and the leader and the remaining nodes get informed about the leader which is available. It reduces the messages passing and preserves the fairness property of the algorithm.\n"
          ]
        }
      ]
    },
    {
      "cell_type": "code",
      "source": [
        "question = \"Explain shortly the ZePoP distributed leader election protocol\"\n",
        "\n",
        "answer = answer_question(question)\n",
        "\n",
        "print(answer[\"output_text\"])"
      ],
      "metadata": {
        "id": "PWw5xbG3rAji",
        "outputId": "961bbee9-ce34-46d0-9f3b-8951455a8c8e",
        "colab": {
          "base_uri": "https://localhost:8080/"
        }
      },
      "execution_count": 35,
      "outputs": [
        {
          "output_type": "stream",
          "name": "stdout",
          "text": [
            "\n",
            "\n",
            "\u001b[1m> Entering new StuffDocumentsChain chain...\u001b[0m\n",
            "\n",
            "\n",
            "\u001b[1m> Entering new LLMChain chain...\u001b[0m\n",
            "Prompt after formatting:\n",
            "\u001b[32;1m\u001b[1;3mBelow is an instruction that describes a task. Write a response that appropriately completes the request.\n",
            "\n",
            "    Instruction:\n",
            "    You are an expert about leader election algorithms in distributed systems.\n",
            "    You use a simple language to explain concepts.\n",
            "    You reply using only short textual descriptions, no images.\n",
            "\n",
            "    ['ZePoP: A Distributed Leader Election Prot ocol using  the Delay -based  Closeness  Centrality  for Peer -to-Peer Applications Md Amjad Hossain   School of Business, Emporia State University   Emporia, KS, 66801   Email: mhossai1@emporia.edu      Javed I. Khan   Department of Computer Science, Kent  State University   Kent, OH, 66801   Email: javed@cs.kent.ed u        Abstract — This paper presents ZePoP, a leader election  protocol  for distributed systems , optimizing a delay -based  closeness centrality . We design the protocol specificall y for the  Peer to Peer( P2P) applications , where  the leader peer (node) is  responsible for collect ing, process ing, and redistribut ing data  or control signals  satisfying some timing constraints. The  protocol elects an optimal leader node in the dynamically  changing network and construct s a Data Collection and  Distribution Tree  (DCDT) rooted at the leader  node . The  elected optimal leader is cl osest to all nodes in the system  compared to other nodes.  We validate the proposed protocol  through theoretical proofs as well as experimental results.     Keywords – Peer to Peer  Network , Leader Election , Network Delay ,  Distributed Systems, Closeness  Centrality , P2P Video Conferencing.   I.  INTRODUCTION   Many distributed systems  require  a leader  or coordinator   node  to synchroniz e system operations , collect  data from all  other nodes  and redistribute the processed data as fast as  possible.  To ensure speedy operation s, the leader must be  quickly reachable from all other nodes in the network. Such  a leader can be referred to as an optimal  leader. In distributed   applications on dynamic networks (i.e. , P2P) the leader  needs to be re-elected every time the leader loses its  optimality . For example, in P2P video conferencing,  a leader   peer works as  a Multipoint Control Unit ( MCU)  and must be  elected dynamically as th e network changes.  The MCU must  collect all streams as soon as possible, combine them into  one stream , and return it to all participants [1, 2] . Similarly, i n  Federated Machine Learning on P2P systems , the dynamic  leader must collect parameters of local models from the  computing nodes and generate the global model. During the  learning process, the leader also needs to calcula te and  distribute the model error among peers [3-7]. In these   applications, an optimally  positioned  leader can speed up  system operations  significantly . The optimal leader  can also  be useful in many applications of Cyber -Physical  Systems(CPS) , such as the data collection and disseminat ion  of control signals in wireless sensor networks, the swarm of  robots , or the network of drones , IoT , etc.[8]. For the  optim ality, the election process  must minimize the average  distance  to the leader from all other nodes or equivalently  maximize t he closeness centrality  ( 𝐶𝑥 of node x ), which is  defined as  [9],    𝐶𝑥=𝑛−1 ∑ 𝐷𝑦𝑥𝑛 𝑦=1                                   (1)  Where n is the total number of nodes in the network , and 𝐷𝑦𝑥  is the distance from  the node y to x. Earlier  papers  present ed the leader election algorithms  based on the known logical  topolog ies of the systems  such as  ring, complete graph, tree ,  etc.[10-13]. However, the position -based optimal leader  election must  consider  the end-to-end distance in the real  network topology , which can be arbitrary in structure. Mega Merger and Yo -yo[14] are among  several  universal leader  election algorithms that work for arbitrary  topology . But they   elect the leader  based on the unique identifiers of the nodes   or their randomly proposed numbers.  Many attempts have  been made to merely estimate the closeness centrality using  the neighborhood  information of the nodes [15-17]. But only  a few works have used the centrality measure in leader  election, and a handful of them have used distributed  algorithm s. So far,  the centrality  measures considered are   based on the hop count, i.e., 𝐷𝑦𝑥 is the total hop count from  node y to x  [18]. But for delay -sensitive application s, a slow  node or link  might become a bottleneck, causing a loss in  data communication. A delay -based closeness centrality in  leader election can potentially find a better path by avoiding  the extremely slow link.       So, in this paper, we present ZePoP ( Zero Point  Protocol) , a distributed leader election protocol for the  arbitrary network topology  of P2P systems  that elects the  system leader  by maximizing  a delay -based closeness  centrality. It defines a messaging scheme, election algorithm,  node joining and departure algorithms. We validate the  proposed protocol through theoretical proofs as well as  experimental results . We show that the use of DCDT with an  optimally placed root or leader can significantly improve the  performance of application s. We organize the rest of the  paper as follows: Section II discusses the related work. We  formally define the leader election problem under  consideration in section III. Section IV presents  the complete   ZePoP leader protocol for the dynamic network. Here, w e  discuss different algorithms and theoretical proof in detail. In  section V, w e show  the experimental validation of the  protocol. Section VI concludes the paper.   II. RELATED WORK  Most of the leader election algorithms use unique identifiers   of nodes  for leader selection.  Only a few uses closeness  centrality  (hop count based)  for optimal leader election.   Favier et al. in [18] presents  a distributed eventual  leader  election algorithm for dynamic  wireless  networks  using ho p  count based closeness centrality . In [19], W. Mary et al.  presents a central algorithm for  leader election using  closeness centralit y calculated from the adjacent matrix  of  the network . C. Kim and M. Wu present a distributed leader ']\n",
            "\n",
            "    Question: Explain shortly the ZePoP distributed leader election protocol\n",
            "\n",
            "    Response:\n",
            "    \u001b[0m\n",
            "\n",
            "\u001b[1m> Finished chain.\u001b[0m\n",
            "\n",
            "\u001b[1m> Finished chain.\u001b[0m\n",
            "\n",
            "ZePoP is a distributed leader election protocol for the  dynamic network, in which we consider an  arbitrary network topology and the end-to-end distance  in the real network topology, which is arbitrary in structure. We  empower  the P2P systems in dynamic  network  by using  the delay based  closeness centrality  for optimal  leader  election. The  main idea is to construct  a Data Collection  and  Distribution  Trees (DCDT) rooted at the system leader and  elect the optimal leader  node at each time period in the  DCDT,  which is minimized. The  protocol is  detailed  in section  III.\n"
          ]
        }
      ]
    }
  ],
  "metadata": {
    "accelerator": "GPU",
    "colab": {
      "machine_shape": "hm",
      "provenance": [],
      "gpuType": "V100",
      "gpuClass": "premium"
    },
    "kernelspec": {
      "display_name": "Python 3",
      "name": "python3"
    },
    "language_info": {
      "name": "python"
    }
  },
  "nbformat": 4,
  "nbformat_minor": 0
}