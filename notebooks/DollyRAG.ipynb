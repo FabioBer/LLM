{
  "cells": [
    {
      "cell_type": "markdown",
      "source": [
        "# Experiment Architecture\n",
        "## RAG (Retrieval Augmented Generation)\n",
        "#### Differences\n",
        "- Delta is not used for data operations in this experiment\n",
        "- The input data are PDF not XML files\n",
        "#### Problem Statement\n",
        "- We want to get Dolly knowledgeable about Leader Election in Distributed Computing Systems\n",
        "#### Flow\n",
        "<img src=\"https://raw.githubusercontent.com/databricks-demos/dbdemos-resources/main/images/product/llm-dolly/llm-dolly-full.png\" width=\"1000\" />\n"
      ],
      "metadata": {
        "id": "uZo_DF219YEY"
      }
    },
    {
      "cell_type": "markdown",
      "source": [
        "# Reading PDF papers\n",
        "##### All the downloaded academic papers are about \"Leader Election in Distributed Computing Systems\"\n",
        "The papers have been downloaded from **arXiv**\n",
        "\n",
        "<img src=\"https://info.arxiv.org/brand/images/brand-logo-primary.jpg\" width=\"250\" />\n"
      ],
      "metadata": {
        "id": "60MmV9QD9dA7"
      }
    },
    {
      "cell_type": "code",
      "source": [
        "import PyPDF2\n",
        "from tqdm import tqdm\n",
        "import os\n",
        "\n",
        "\n",
        "def divide_chunks(text_body, min_chunk_size=300, max_chunk_size=1000):\n",
        "    in_chunks = text_body.split(\".\\n\")\n",
        "    out_chunks = []\n",
        "    curr_chunk = \"\"\n",
        "    for ic in in_chunks:\n",
        "        if len(ic) < min_chunk_size:\n",
        "            if len(ic)+len(curr_chunk) < max_chunk_size:\n",
        "                curr_chunk = curr_chunk + \"\\n\" + ic\n",
        "            else:\n",
        "                out_chunks.append(curr_chunk)\n",
        "                curr_chunk = \"\"\n",
        "    return out_chunks\n",
        "\n",
        "\n",
        "def clean_chunk(raw_chunk):\n",
        "    chunk = raw_chunk.replace('-\\n','').replace('\\n',' ')\n",
        "    return chunk\n",
        "\n",
        "\n",
        "pdf_paths = [x for x in os.listdir(\"data/pdf/leader_election\") if \".pdf\" in x]\n",
        "\n",
        "print(\"\\n\".join(pdf_paths))\n",
        "\n",
        "bodies = []\n",
        "titles = []\n",
        "\n",
        "for pdf_path in pdf_paths:\n",
        "    with open(f\"data/pdf/leader_election/{pdf_path}\", \"rb\") as file:\n",
        "        reader = PyPDF2.PdfReader(file)\n",
        "        body = \"\"\n",
        "        for page in tqdm(reader.pages):\n",
        "            text = page.extract_text()\n",
        "            body += \"\\n\\n\" + text\n",
        "        bodies.append(body.strip())\n",
        "        titles.append(pdf_path.strip())\n",
        "\n",
        "chunk_list = []\n",
        "for body in bodies:\n",
        "    chunks = [clean_chunk(c) for c in divide_chunks(body)[1:]]\n",
        "    chunk_list.append(chunks)"
      ],
      "metadata": {
        "id": "clgi7whw6A6w",
        "outputId": "6c73e4c4-bd18-47a6-c3a3-23ca7ba24ffe",
        "colab": {
          "base_uri": "https://localhost:8080/"
        }
      },
      "execution_count": 18,
      "outputs": [
        {
          "output_type": "stream",
          "name": "stdout",
          "text": [
            "Modified Bully Algorithm using Election.pdf\n",
            "Improved Bully Election Algorithm for Distributed Systems.pdf\n",
            "Improved Tradeoffs for Leader Election.pdf\n",
            "ZePoP A Distributed Leader Election Protocol using the Delay-based Closeness Centrality for Peer-to-Peer Applications.pdf\n",
            "A Survey and Taxonomy of Leader Election Algorithms in Distributed Systems.pdf\n",
            "Distributed Consensus in Content Centric Networking.pdf\n",
            "Fault Toleran Leader Election in Distributed Systems.pdf\n"
          ]
        },
        {
          "output_type": "stream",
          "name": "stderr",
          "text": [
            "100%|██████████| 8/8 [00:00<00:00, 11.78it/s]\n",
            "100%|██████████| 22/22 [00:00<00:00, 33.09it/s]\n",
            "100%|██████████| 33/33 [00:01<00:00, 17.39it/s]\n",
            "100%|██████████| 9/9 [00:01<00:00,  7.09it/s]\n",
            "100%|██████████| 17/17 [00:00<00:00, 28.03it/s]\n",
            "100%|██████████| 3/3 [00:00<00:00, 26.03it/s]\n",
            "100%|██████████| 8/8 [00:00<00:00, 26.78it/s]"
          ]
        },
        {
          "output_type": "stream",
          "name": "stdout",
          "text": [
            "\n"
          ]
        },
        {
          "output_type": "stream",
          "name": "stderr",
          "text": [
            "\n"
          ]
        }
      ]
    },
    {
      "cell_type": "markdown",
      "source": [
        "# Embeddings\n",
        "##### Multidimensional Vector Representation of Semantic Meanings\n",
        "<img src=\"https://corpling.hypotheses.org/files/2018/04/Screen-Shot-2018-04-25-at-13.21.44.png\" width=\"400\" />\n"
      ],
      "metadata": {
        "id": "T_aEyAVI9XiI"
      }
    },
    {
      "cell_type": "code",
      "source": [
        "from sentence_transformers import SentenceTransformer\n",
        "import itertools\n",
        "\n",
        "model_name = \"sentence-transformers/all-MiniLM-L12-v2\"\n",
        "\n",
        "model = SentenceTransformer(model_name, device='cuda')\n",
        "\n",
        "sentences = list(itertools.chain(*chunk_list))\n",
        "\n",
        "embeddings = [[float(x) for x in model.encode(s)] for s in sentences]"
      ],
      "metadata": {
        "id": "JKRJ0u176A1t"
      },
      "execution_count": null,
      "outputs": []
    },
    {
      "cell_type": "markdown",
      "source": [
        "# Database\n",
        "##### Creating a Vector Database of Embeddings using the open-source ChromaDB\n",
        "<img src=\"https://www.mlq.ai/content/images/2023/08/1_admwyPyR6v_IZI0EYE--eA-1.webp\" width=\"250\" />\n"
      ],
      "metadata": {
        "id": "eYagurcG9WsL"
      }
    },
    {
      "cell_type": "code",
      "source": [
        "import chromadb\n",
        "from chromadb.utils import embedding_functions\n",
        "\n",
        "\n",
        "chroma_client = chromadb.Client()\n",
        "\n",
        "default_ef = embedding_functions.DefaultEmbeddingFunction()\n",
        "\n",
        "collection = chroma_client.get_or_create_collection(name=\"leader_election_distributed_systems\", embedding_function=default_ef)\n",
        "\n",
        "collection.add(\n",
        "    documents=sentences,\n",
        "    embeddings=embeddings,\n",
        "    ids=[str(x) for x in range(len(embeddings))]\n",
        ")"
      ],
      "metadata": {
        "id": "AHPts0Ba6Avo"
      },
      "execution_count": 26,
      "outputs": []
    },
    {
      "cell_type": "markdown",
      "source": [
        "# Base Model\n",
        "##### The open-source Databricks' Dolly\n",
        "<img src=\"https://www.databricks.com/sites/default/files/2023-04/Dolly-logo.png\" width=\"300\" />"
      ],
      "metadata": {
        "id": "4ueiNRQp5xb_"
      }
    },
    {
      "cell_type": "code",
      "source": [
        "from transformers import pipeline\n",
        "import torch\n",
        "from langchain import PromptTemplate\n",
        "from langchain.llms import HuggingFacePipeline\n",
        "from langchain.chains.question_answering import load_qa_chain\n",
        "\n",
        "\n",
        "def build_qa_chain():\n",
        "\n",
        "    model_name = \"databricks/dolly-v2-3b\" # Dolly smallest version (3 billion params)\n",
        "\n",
        "    instruct_pipeline = pipeline(model=model_name, torch_dtype=torch.bfloat16, trust_remote_code=True,\n",
        "                                 return_full_text=True, max_new_tokens=4096, top_p=0.95, top_k=50,\n",
        "                                 device=0) #cuda\n",
        "\n",
        "    template = \"\"\"Below is an instruction that describes a task. Write a response that appropriately completes the request.\n",
        "\n",
        "    Instruction:\n",
        "    You are an expert about leader election algorithms in distributed systems.\n",
        "    You use a simple language to explain concepts.\n",
        "    You reply using only short textual descriptions, no images.\n",
        "\n",
        "    {context}\n",
        "\n",
        "    Question: {question}\n",
        "\n",
        "    Response:\n",
        "    \"\"\"\n",
        "\n",
        "    prompt = PromptTemplate(input_variables=['context', 'question'], template=template)\n",
        "\n",
        "    hf_pipe = HuggingFacePipeline(pipeline=instruct_pipeline)\n",
        "\n",
        "    return load_qa_chain(llm=hf_pipe, chain_type=\"stuff\", prompt=prompt, verbose=True)"
      ],
      "metadata": {
        "id": "tEbDsKmZ0YDm"
      },
      "execution_count": 27,
      "outputs": []
    },
    {
      "cell_type": "code",
      "source": [
        "# Building the chain will load Dolly and can take several minutes depending on the model size\n",
        "qa_chain = build_qa_chain()"
      ],
      "metadata": {
        "id": "Zl50kSoM0zcp"
      },
      "execution_count": 28,
      "outputs": []
    },
    {
      "cell_type": "code",
      "source": [
        "import os\n",
        "os.environ['CURL_CA_BUNDLE'] = ''\n",
        "\n",
        "class Document():\n",
        "    def __init__(self, content):\n",
        "        self.page_content = content\n",
        "        self.metadata = {\"metadata\": \"\"}\n",
        "\n",
        "def get_similar_docs(question):\n",
        "    results = collection.query(\n",
        "        query_embeddings=[float(x) for x in model.encode(question)],\n",
        "        n_results=3\n",
        "    )\n",
        "    return results[\"documents\"]\n",
        "\n",
        "def answer_question(question):\n",
        "    similar_docs = [Document(x) for x in get_similar_docs(question)]\n",
        "    result = qa_chain({\"input_documents\": similar_docs, \"question\": question})\n",
        "    return result\n",
        "\n",
        "question = \"Why distributed systems need a leader?\"\n",
        "\n",
        "answer = answer_question(question)\n",
        "\n",
        "print(answer[\"output_text\"])"
      ],
      "metadata": {
        "id": "A8eoTuC17VEK",
        "outputId": "cd5a05f6-0235-4b55-9b43-b9e1a48d35b4",
        "colab": {
          "base_uri": "https://localhost:8080/"
        }
      },
      "execution_count": 30,
      "outputs": [
        {
          "output_type": "stream",
          "name": "stdout",
          "text": [
            "\n",
            "\n",
            "\u001b[1m> Entering new StuffDocumentsChain chain...\u001b[0m\n",
            "\n",
            "\n",
            "\u001b[1m> Entering new LLMChain chain...\u001b[0m\n",
            "Prompt after formatting:\n",
            "\u001b[32;1m\u001b[1;3mBelow is an instruction that describes a task. Write a response that appropriately completes the request.\n",
            "\n",
            "    Instruction:\n",
            "    You are an expert about leader election algorithms in distributed systems.\n",
            "    You use a simple language to explain concepts.\n",
            "    You reply using only short textual descriptions, no images.\n",
            "\n",
            "    [' [14] Shay Kutten,William K MosesJr,GopalPandurangan, and David Peleg. 2020. Singularly OptimalRandomized Leader Election.In 34th InternationalSymposiumonDistributedComputing  [15] Shay Kutten, Gopal Pandurangan, David Peleg, Peter Rob inson, and Amitabh Trehan. 2015. On the complexity of universal leaderelection. Journalof theACM (JACM) 62,1 (2015),1–27 [16] Shay Kutten, Gopal Pandurangan, David Peleg, Peter Rob inson, and Amitabh Trehan. 2015. Sublinear bounds for randomizedleader election. TheoreticalComputerScience 561(2015),134–143 [17] Gérard LeLann. 1977. DistributedSystems-Towards a Fo rmalApproach..In IFIP congress ,Vol.7.Toronto,155–160 [18] Nancy ALynch. 1996. Distributedalgorithms . Elsevier [19] Erik Nygren, Ramesh K Sitaraman, and Jennifer Sun. 2010 . The akamai network: a platform for high-performance internet applications. ACM SIGOPSOperatingSystemsReview 44,3 (2010),2–19 [20] David Peleg. 2000. Distributedcomputing:a locality-sensitiveapproach . SIAM', ' 8. M Zargarnataj. New Election Algorithm based on Assistant in Distributed Systems, IEEE International Conference on Computer Systems and Applications , pages 324–331, 2007 9. H Garcia-Molina. Elections in Distributed Computing System, IEEE Transaction on Computers , 310:48-59, 1982 10. Chang Ben Ari. Principles of Concurrent and Distributed Programming, Pearson Education , 2nd edition, 2006 11. AndrewS Tanenbaum. Distributed Systems Principles and Paradigms, Beijing: Tsinghua University Press , 2008 12. G Le Lan. Distributed System Towards a Formal Approach, Information Processing, The Netherlands: North-Holland , pages 155–160, 1977 13. Sung-Hoon-Park. A Probablistically Correct Election Protocol in Asynchronous Distributed System, APPT, LNCS , 310, pages 177–183, 2003', ' Result of this analysis clearly shows that modiﬁed algorithm is better than bully algorithm with fewer message passing and the fewer stages REFERENCES 1. M.R Eﬀat Parvar, “Improved Algorithms for Leader Election in Distributed Systems,” in 2nd International Conference on Computer Engineering and Technology (ICCET) , 2010 2. Sandipan Basu, “An Eﬃcient Approach of Election Algori thm in Distributed Systems,” Indian Journal of Computer Science and Engineering (IJCSE) , vol. 2, pp. 16–21, 2011 3. Muhammad Mahbubur Rahman and Afroza Nahar, “Modiﬁed Bully Algorithm using Election Commission,” MASAUM Journal of Computing(MJC) , vol. 1, no. 3, pp. 439–446, October 2009 4. Chang-Young Kim and Sung-Hoon Bauk, “The Election Protocol for Reconﬁgurable Distributed Systems,” in International Conference on Wireless Networks (ICWN) , pp 295–301, 2006']\n",
            "\n",
            "    Question: Why distributed systems need a leader?\n",
            "\n",
            "    Response:\n",
            "    \u001b[0m\n",
            "\n",
            "\u001b[1m> Finished chain.\u001b[0m\n",
            "\n",
            "\u001b[1m> Finished chain.\u001b[0m\n",
            "\n",
            "As we all know, computer systems are made up of many different components. These components communicate over networks with the help of protocols and run in different locations, called nodes. If each component can assume that it can communicate with other components and perform some actions only if it is able to contact other components, there will be chaos. In order to maintain the order, it is important for some entity to be the leader. A leader can communicate with other leaders and the rest of the components. It can listen to and publish messages to the network. This helps other components to converge on a common state, without needing to directly communicate with each other. The process of election is important in distributed systems.\n"
          ]
        }
      ]
    },
    {
      "cell_type": "code",
      "source": [
        "question = \"Explain shortly the modified bully algorithm for leader election in distributed systems\"\n",
        "\n",
        "answer = answer_question(question)\n",
        "\n",
        "print(answer[\"output_text\"])"
      ],
      "metadata": {
        "id": "WoqUwEMP7VBm",
        "outputId": "68ec804e-d96f-4614-dffe-f99f89172de1",
        "colab": {
          "base_uri": "https://localhost:8080/"
        }
      },
      "execution_count": 31,
      "outputs": [
        {
          "output_type": "stream",
          "name": "stdout",
          "text": [
            "\n",
            "\n",
            "\u001b[1m> Entering new StuffDocumentsChain chain...\u001b[0m\n",
            "\n",
            "\n",
            "\u001b[1m> Entering new LLMChain chain...\u001b[0m\n",
            "Prompt after formatting:\n",
            "\u001b[32;1m\u001b[1;3mBelow is an instruction that describes a task. Write a response that appropriately completes the request.\n",
            "\n",
            "    Instruction:\n",
            "    You are an expert about leader election algorithms in distributed systems.\n",
            "    You use a simple language to explain concepts.\n",
            "    You reply using only short textual descriptions, no images.\n",
            "\n",
            "    [' Bully algorithm was ﬁrst presented by Garcia Molina in 1982. The Bully algorithm in distributed computing system is used for dynamically electing a leader by using the process ID number. The process with the highest process ID number is elected as the leader process 1. Assumptions (i) Each process has a unique and not null number to distinguish them and each process knows other process number (ii) Processes dont know which ones are currently up and down (iii) The entire system is synchronous. Timeouts are used for deciding process failure (iv) Processes can crash even during execution of algorithm (v) Message delivery between processes is reliable and time bound 2. Aim: The aim of election Algorithm execution is selecting one process as leader (Coordinator) that all processes agree with it. In other words, electing a process with the highest priority or highest ID number as a leader or coordinator', ' Result of this analysis clearly shows that modiﬁed algorithm is better than bully algorithm with fewer message passing and the fewer stages REFERENCES 1. M.R Eﬀat Parvar, “Improved Algorithms for Leader Election in Distributed Systems,” in 2nd International Conference on Computer Engineering and Technology (ICCET) , 2010 2. Sandipan Basu, “An Eﬃcient Approach of Election Algori thm in Distributed Systems,” Indian Journal of Computer Science and Engineering (IJCSE) , vol. 2, pp. 16–21, 2011 3. Muhammad Mahbubur Rahman and Afroza Nahar, “Modiﬁed Bully Algorithm using Election Commission,” MASAUM Journal of Computing(MJC) , vol. 1, no. 3, pp. 439–446, October 2009 4. Chang-Young Kim and Sung-Hoon Bauk, “The Election Protocol for Reconﬁgurable Distributed Systems,” in International Conference on Wireless Networks (ICWN) , pp 295–301, 2006', ' (iv) Process 6 tells 5 to stop by sending OK to it (v) Process 6 wins the election because no higher processes responded to it and it informs all the processes that it is the Coordinator from now on  46 P Beaulah Soundarabai, et al., Figure 1. Bully Algorithm  Improved Bully Election Algorithm for Distributed Systems 47 3.1. Advantages and limitations TheadvantagesofBullyalgorithmarethatthis algorithmisadistributed methodwithsimpleimplementation [9][10][11]. This method requires at most ﬁve stages, and the probability of detecting a crashed process during the execution of algorithm is lowered in contrast to other algorithms Therefore other algorithms impose heavy traﬃc inthe networkin contrasttoBully algorithm[12] 4.1. Modiﬁed Bully Algorithm Details 1. Assumption Besides having all the assumptions of the existing algorithm, we assume (i) All processes hold an election ﬂag, if this ﬂag is true election cannot be initiated by any process']\n",
            "\n",
            "    Question: Explain shortly the modified bully algorithm for leader election in distributed systems\n",
            "\n",
            "    Response:\n",
            "    \u001b[0m\n",
            "\n",
            "\u001b[1m> Finished chain.\u001b[0m\n",
            "\n",
            "\u001b[1m> Finished chain.\u001b[0m\n",
            "\n",
            "1. Assumption Besides having all the assumptions of the existing algorithm, we assume (i) All processes hold an election ﬂag, if this ﬂag is true election cannot be initiated by any process,\n",
            "\n",
            "2. Aim: The aim of election Algorithm execution is selecting one process as leader (Coordinator) that all processes agree with it. In other words, electing a process with the highest priority or highest ID number as a leader or coordinator',\n",
            "\n",
            "3. Modiﬁed Bully Algorithm Details \n",
            "a. Assume every process has a unique number that is used to distinguish them,\n",
            "b. Assume processes dont know which ones are currently up and down,\n",
            "c. Assume the entire system is synchronous,\n",
            "d. Timeouts are used for deciding process failure,\n",
            "e. Processes can crash even during execution of algorithm,\n",
            "f. Message delivery between processes is reliable and time bound\n",
            "\n",
            "4. Result of this analysis clearly shows that the modified algorithm is better than the bully algorithm with fewer message passing and the fewer stages\n"
          ]
        }
      ]
    },
    {
      "cell_type": "code",
      "source": [
        "question = \"Explain shortly the ZePoP distributed leader election protocol\"\n",
        "\n",
        "answer = answer_question(question)\n",
        "\n",
        "print(answer[\"output_text\"])"
      ],
      "metadata": {
        "id": "tXcz8iUw7U92",
        "outputId": "250415f8-7b6e-4aa6-8a1e-3b9353008a53",
        "colab": {
          "base_uri": "https://localhost:8080/"
        }
      },
      "execution_count": 33,
      "outputs": [
        {
          "output_type": "stream",
          "name": "stdout",
          "text": [
            "\n",
            "\n",
            "\u001b[1m> Entering new StuffDocumentsChain chain...\u001b[0m\n",
            "\n",
            "\n",
            "\u001b[1m> Entering new LLMChain chain...\u001b[0m\n",
            "Prompt after formatting:\n",
            "\u001b[32;1m\u001b[1;3mBelow is an instruction that describes a task. Write a response that appropriately completes the request.\n",
            "\n",
            "    Instruction:\n",
            "    You are an expert about leader election algorithms in distributed systems.\n",
            "    You use a simple language to explain concepts.\n",
            "    You reply using only short textual descriptions, no images.\n",
            "\n",
            "    ['  54 P Beaulah Soundarabai, et al., 2. Sandipan Basu. An Eﬃcient Approach of Election Algorithm in Distributed Systems, Indian Journal of Computer Science and Engineering (IJCSE) , 2:16–21, 2011 3. Muhammad Mahbubur Rahman and Afroza Nahar. Modiﬁed Bully Algorithm using Election Commission, MASAUM Journal of Computing(MJC) , 1(3):439–446, October 2009 4. Chang-Young Kim and Sung-Hoon Bauk. The Election Protocol for Reconﬁgurable Distributed Systems, in International Conference on Wireless Networks (ICWN) , pages 295–301, 2006 5. M S Kordafshari, M Gholipour, M Jahanshahi and A T Haghighat. Modiﬁed Bully Election Algorithm in Distributed System, in WSEAS Conferences, 2005 6. M Sepehri and M Goodarzi. Leader Election Algorithm using Heap Structure, Proceedings of the 12th WSEAS international conference on Computers (ICCOMP08) , 2008', '  4.  Vasudevan S, Kurose J, Towsley D. Design and analysis of a leader election algorithm for mobile ad hoc networks.  Proceedings of the 12th International conference on net-work protocols; 1987. p. 350–60  5.  Rahman M, Abdullah_Al_Wadud M, Chae O. Performance analysis of leader election algorithms in mobile ad hoc networks. International Journal of Computer Science and Network Security. 2008; 8(2)  8.  Nakano K, Olariu S. Randomized O(log logn)_ round  leader election protocols in radio networks. Process of International Symposium on Algorithms and Computation. (lncs 1533); 1998. p. 209–18  9.  K.Nakano and S.Olariu(2000), \"A Randomized leader elec-tion protocols for ad hoc Networks\"  SIROCCO,  Carleton Scientific pp: 253-267 10.  Nakano K, Olariu S. Randomized Leader election protocols in radio networks with no collision detection. Lect Notes Comput Sci. 2000; 1969:362–73', ' [14] Shay Kutten,William K MosesJr,GopalPandurangan, and David Peleg. 2020. Singularly OptimalRandomized Leader Election.In 34th InternationalSymposiumonDistributedComputing  [15] Shay Kutten, Gopal Pandurangan, David Peleg, Peter Rob inson, and Amitabh Trehan. 2015. On the complexity of universal leaderelection. Journalof theACM (JACM) 62,1 (2015),1–27 [16] Shay Kutten, Gopal Pandurangan, David Peleg, Peter Rob inson, and Amitabh Trehan. 2015. Sublinear bounds for randomizedleader election. TheoreticalComputerScience 561(2015),134–143 [17] Gérard LeLann. 1977. DistributedSystems-Towards a Fo rmalApproach..In IFIP congress ,Vol.7.Toronto,155–160 [18] Nancy ALynch. 1996. Distributedalgorithms . Elsevier [19] Erik Nygren, Ramesh K Sitaraman, and Jennifer Sun. 2010 . The akamai network: a platform for high-performance internet applications. ACM SIGOPSOperatingSystemsReview 44,3 (2010),2–19 [20] David Peleg. 2000. Distributedcomputing:a locality-sensitiveapproach . SIAM']\n",
            "\n",
            "    Question: Explain shortly the ZePoP distributed leader election protocol\n",
            "\n",
            "    Response:\n",
            "    \u001b[0m\n",
            "\n",
            "\u001b[1m> Finished chain.\u001b[0m\n",
            "\n",
            "\u001b[1m> Finished chain.\u001b[0m\n",
            "\n",
            "The ZePoP protocol is a simple and efficient distributed leader election algorithm that works in large scale, partially synchronous, networked system where the network partitions are possible.\n",
            "\n",
            "The goal of the ZePoP protocol is to decide a single node as the leader in a network in which multiple nodes may join and leave arbitrarily, at any time.\n",
            "\n",
            "The ZePoP protocol is a \"modified\" bully algorithm, where the \"leader\" is not just a node that arrived first in a round, but is instead a node that has the highest computed total score.\n",
            "\n",
            "The ZePoP protocol uses the heap-based \"leader election\" algorithm, which ensures that the leader election can be performed in O(logn) time and amortized O(1) time, even in the case of Byzantine fault.\n",
            "\n",
            "The ZePoP protocol also supports broadcasting the current leader in each round, which allows for a more distributed implementation that works without a leader election mechanism on all nodes.\n"
          ]
        }
      ]
    }
  ],
  "metadata": {
    "accelerator": "GPU",
    "colab": {
      "machine_shape": "hm",
      "provenance": [],
      "gpuType": "V100",
      "gpuClass": "premium"
    },
    "kernelspec": {
      "display_name": "Python 3",
      "name": "python3"
    },
    "language_info": {
      "name": "python"
    }
  },
  "nbformat": 4,
  "nbformat_minor": 0
}