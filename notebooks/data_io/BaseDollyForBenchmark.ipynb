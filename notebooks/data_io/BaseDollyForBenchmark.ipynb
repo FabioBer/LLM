{
  "cells": [
    {
      "cell_type": "markdown",
      "source": [
        "# Base Model\n",
        "##### The open-source Databricks' Dolly\n",
        "<img src=\"https://www.databricks.com/sites/default/files/2023-04/Dolly-logo.png\" width=\"300\" />"
      ],
      "metadata": {
        "id": "KGw1FNG6jY75"
      }
    },
    {
      "cell_type": "code",
      "source": [
        "from transformers import pipeline\n",
        "import torch\n",
        "from langchain import PromptTemplate\n",
        "from langchain.llms import HuggingFacePipeline\n",
        "from langchain.chains.question_answering import load_qa_chain\n",
        "\n",
        "\n",
        "def build_qa_chain():\n",
        "\n",
        "    model_name = \"databricks/dolly-v2-3b\" # Dolly smallest version (3 billion params)\n",
        "\n",
        "    instruct_pipeline = pipeline(model=model_name, torch_dtype=torch.bfloat16, trust_remote_code=True,\n",
        "                                 return_full_text=True, max_new_tokens=4096, top_p=0.95, top_k=50,\n",
        "                                 device=0) #cuda\n",
        "\n",
        "    template = \"\"\"Below is an instruction that describes a task. Write a response that appropriately completes the request.\n",
        "\n",
        "    Instruction:\n",
        "    You use a simple language to explain concepts.\n",
        "    You reply using only textual descriptions and code examples.\n",
        "\n",
        "    {context}\n",
        "\n",
        "    Question: {question}\n",
        "\n",
        "    Response:\n",
        "    \"\"\"\n",
        "\n",
        "    prompt = PromptTemplate(input_variables=['context', 'question'], template=template)\n",
        "\n",
        "    hf_pipe = HuggingFacePipeline(pipeline=instruct_pipeline)\n",
        "\n",
        "    return load_qa_chain(llm=hf_pipe, chain_type=\"stuff\", prompt=prompt, verbose=True)"
      ],
      "metadata": {
        "id": "L8cG0Wh3h436"
      },
      "execution_count": 9,
      "outputs": []
    },
    {
      "cell_type": "code",
      "source": [
        "# Building the chain will load Dolly and can take several minutes depending on the model size\n",
        "qa_chain = build_qa_chain()"
      ],
      "metadata": {
        "id": "rNfXFJcAiDlr"
      },
      "execution_count": 10,
      "outputs": []
    },
    {
      "cell_type": "code",
      "source": [
        "import os\n",
        "os.environ['CURL_CA_BUNDLE'] = ''\n",
        "\n",
        "\n",
        "def answer_question(question):\n",
        "    result = qa_chain({\"input_documents\": [], \"question\": question})\n",
        "    return result\n",
        "\n",
        "\n",
        "question = \"Can you shortly describe me the Data I/O framework?\"\n",
        "\n",
        "answer = answer_question(question)\n",
        "\n",
        "print(answer[\"output_text\"])"
      ],
      "metadata": {
        "id": "qRKe5V6iiDao",
        "outputId": "b9bb58a3-f7da-45df-9a2d-23a0c4d83f7a",
        "colab": {
          "base_uri": "https://localhost:8080/"
        }
      },
      "execution_count": 11,
      "outputs": [
        {
          "output_type": "stream",
          "name": "stdout",
          "text": [
            "\n",
            "\n",
            "\u001b[1m> Entering new StuffDocumentsChain chain...\u001b[0m\n",
            "\n",
            "\n",
            "\u001b[1m> Entering new LLMChain chain...\u001b[0m\n",
            "Prompt after formatting:\n",
            "\u001b[32;1m\u001b[1;3mBelow is an instruction that describes a task. Write a response that appropriately completes the request.\n",
            "\n",
            "    Instruction:\n",
            "    You use a simple language to explain concepts.\n",
            "    You reply using only textual descriptions and code examples.\n",
            "\n",
            "    \n",
            "\n",
            "    Question: Can you shortly describe me the Data I/O framework?\n",
            "\n",
            "    Response:\n",
            "    \u001b[0m\n",
            "\n",
            "\u001b[1m> Finished chain.\u001b[0m\n",
            "\n",
            "\u001b[1m> Finished chain.\u001b[0m\n",
            "\n",
            "The Data I/O framework is an abstraction layer on top of the raw file system (or some other mechanism) that provides a simple and uniform interface to access data. Applications can use the I/O facilities to read data, write data, atomically update multiple partitions of a dataset, provide a streaming interface for reading data and so on.\n"
          ]
        }
      ]
    },
    {
      "cell_type": "code",
      "source": [
        "question = \"In which programming language is the Data I/O framework written?\"\n",
        "\n",
        "answer = answer_question(question)\n",
        "\n",
        "print(answer[\"output_text\"])"
      ],
      "metadata": {
        "id": "TaeeeQKCir_K",
        "outputId": "c765d991-1b49-4651-97d3-673e798fe7bb",
        "colab": {
          "base_uri": "https://localhost:8080/"
        }
      },
      "execution_count": 12,
      "outputs": [
        {
          "output_type": "stream",
          "name": "stdout",
          "text": [
            "\n",
            "\n",
            "\u001b[1m> Entering new StuffDocumentsChain chain...\u001b[0m\n",
            "\n",
            "\n",
            "\u001b[1m> Entering new LLMChain chain...\u001b[0m\n",
            "Prompt after formatting:\n",
            "\u001b[32;1m\u001b[1;3mBelow is an instruction that describes a task. Write a response that appropriately completes the request.\n",
            "\n",
            "    Instruction:\n",
            "    You use a simple language to explain concepts.\n",
            "    You reply using only textual descriptions and code examples.\n",
            "\n",
            "    \n",
            "\n",
            "    Question: In which programming language is the Data I/O framework written?\n",
            "\n",
            "    Response:\n",
            "    \u001b[0m\n",
            "\n",
            "\u001b[1m> Finished chain.\u001b[0m\n",
            "\n",
            "\u001b[1m> Finished chain.\u001b[0m\n",
            "\n",
            "The Data I/O framework is written in.NET\n"
          ]
        }
      ]
    },
    {
      "cell_type": "code",
      "source": [
        "question = \"Can Data I/O read data from Elasticsearch?\"\n",
        "\n",
        "answer = answer_question(question)\n",
        "\n",
        "print(answer[\"output_text\"])"
      ],
      "metadata": {
        "id": "uGJHMR_fi6oP",
        "outputId": "5d659eaf-8923-45fc-93be-9b792aa7a5de",
        "colab": {
          "base_uri": "https://localhost:8080/"
        }
      },
      "execution_count": 13,
      "outputs": [
        {
          "output_type": "stream",
          "name": "stdout",
          "text": [
            "\n",
            "\n",
            "\u001b[1m> Entering new StuffDocumentsChain chain...\u001b[0m\n",
            "\n",
            "\n",
            "\u001b[1m> Entering new LLMChain chain...\u001b[0m\n",
            "Prompt after formatting:\n",
            "\u001b[32;1m\u001b[1;3mBelow is an instruction that describes a task. Write a response that appropriately completes the request.\n",
            "\n",
            "    Instruction:\n",
            "    You use a simple language to explain concepts.\n",
            "    You reply using only textual descriptions and code examples.\n",
            "\n",
            "    \n",
            "\n",
            "    Question: Can Data I/O read data from Elasticsearch?\n",
            "\n",
            "    Response:\n",
            "    \u001b[0m\n",
            "\n",
            "\u001b[1m> Finished chain.\u001b[0m\n",
            "\n",
            "\u001b[1m> Finished chain.\u001b[0m\n",
            "\n",
            "No, but you can write data to Elasticsearch.\n"
          ]
        }
      ]
    },
    {
      "cell_type": "code",
      "source": [
        "question = \"Can Data I/O write data to Elasticsearch?\"\n",
        "\n",
        "answer = answer_question(question)\n",
        "\n",
        "print(answer[\"output_text\"])"
      ],
      "metadata": {
        "id": "wlhr6ydIi8wC",
        "outputId": "0fb84bb0-5ada-4f14-bbca-e26febb1f7f3",
        "colab": {
          "base_uri": "https://localhost:8080/"
        }
      },
      "execution_count": 14,
      "outputs": [
        {
          "output_type": "stream",
          "name": "stdout",
          "text": [
            "\n",
            "\n",
            "\u001b[1m> Entering new StuffDocumentsChain chain...\u001b[0m\n",
            "\n",
            "\n",
            "\u001b[1m> Entering new LLMChain chain...\u001b[0m\n",
            "Prompt after formatting:\n",
            "\u001b[32;1m\u001b[1;3mBelow is an instruction that describes a task. Write a response that appropriately completes the request.\n",
            "\n",
            "    Instruction:\n",
            "    You use a simple language to explain concepts.\n",
            "    You reply using only textual descriptions and code examples.\n",
            "\n",
            "    \n",
            "\n",
            "    Question: Can Data I/O write data to Elasticsearch?\n",
            "\n",
            "    Response:\n",
            "    \u001b[0m\n",
            "\n",
            "\u001b[1m> Finished chain.\u001b[0m\n",
            "\n",
            "\u001b[1m> Finished chain.\u001b[0m\n",
            "\n",
            "No, the data that is written to Elasticsearch should be treated as internal to the cluster. The Elasticsearch cluster manages the placement of data on disk and the way that data is cached.\n"
          ]
        }
      ]
    },
    {
      "cell_type": "code",
      "source": [
        "question = \"How to add Amadeus Data I/O Maven dependency in my pom.xml?\"\n",
        "\n",
        "answer = answer_question(question)\n",
        "\n",
        "print(answer[\"output_text\"])"
      ],
      "metadata": {
        "id": "KzrdWEQli-Yn",
        "outputId": "2ac458a5-484c-424d-c1cf-4cec42bb1753",
        "colab": {
          "base_uri": "https://localhost:8080/"
        }
      },
      "execution_count": 15,
      "outputs": [
        {
          "output_type": "stream",
          "name": "stdout",
          "text": [
            "\n",
            "\n",
            "\u001b[1m> Entering new StuffDocumentsChain chain...\u001b[0m\n",
            "\n",
            "\n",
            "\u001b[1m> Entering new LLMChain chain...\u001b[0m\n",
            "Prompt after formatting:\n",
            "\u001b[32;1m\u001b[1;3mBelow is an instruction that describes a task. Write a response that appropriately completes the request.\n",
            "\n",
            "    Instruction:\n",
            "    You use a simple language to explain concepts.\n",
            "    You reply using only textual descriptions and code examples.\n",
            "\n",
            "    \n",
            "\n",
            "    Question: How to add Amadeus Data I/O Maven dependency in my pom.xml?\n",
            "\n",
            "    Response:\n",
            "    \u001b[0m\n",
            "\n",
            "\u001b[1m> Finished chain.\u001b[0m\n",
            "\n",
            "\u001b[1m> Finished chain.\u001b[0m\n",
            "\n",
            "Just add the below dependency in your pom.xml\n",
            "    \n",
            "    <dependency>\n",
            "        <groupId>com.amadeus</groupId>\n",
            "        <artifactId>data-io</artifactId>\n",
            "    </dependency>\n",
            "\n",
            "    \n",
            "    \n",
            "And if you use Java 11+ you can use Java 8 lambda expressions:\n",
            "    \n",
            "    AmadeusDataIO.getInstance().execute(\"insert into mytable(col1,col2) values (?,?)\", row1, row2);\n",
            "\n",
            "    \n",
            "becomes\n",
            "    \n",
            "    AmadeusDataIO.getInstance().execute(\"insert into mytable(col1,col2) values (?,?)\", row1, row2, (r1, r2) -> r1);\n",
            "\n",
            "    \n",
            "    \n",
            "Note that the lambda expression is not necessary with Java 10 and lower\n"
          ]
        }
      ]
    },
    {
      "cell_type": "code",
      "source": [
        "question = \"List me the names of the mandatory field needed to send an Email with Data I/O?\"\n",
        "\n",
        "answer = answer_question(question)\n",
        "\n",
        "print(answer[\"output_text\"])"
      ],
      "metadata": {
        "id": "Cv4Nc8PmjDCK",
        "outputId": "c2ab11b2-fe86-4f8c-dda1-fc893f1ec76c",
        "colab": {
          "base_uri": "https://localhost:8080/"
        }
      },
      "execution_count": 16,
      "outputs": [
        {
          "output_type": "stream",
          "name": "stdout",
          "text": [
            "\n",
            "\n",
            "\u001b[1m> Entering new StuffDocumentsChain chain...\u001b[0m\n",
            "\n",
            "\n",
            "\u001b[1m> Entering new LLMChain chain...\u001b[0m\n",
            "Prompt after formatting:\n",
            "\u001b[32;1m\u001b[1;3mBelow is an instruction that describes a task. Write a response that appropriately completes the request.\n",
            "\n",
            "    Instruction:\n",
            "    You use a simple language to explain concepts.\n",
            "    You reply using only textual descriptions and code examples.\n",
            "\n",
            "    \n",
            "\n",
            "    Question: List me the names of the mandatory field needed to send an Email with Data I/O?\n",
            "\n",
            "    Response:\n",
            "    \u001b[0m\n",
            "\n",
            "\u001b[1m> Finished chain.\u001b[0m\n",
            "\n",
            "\u001b[1m> Finished chain.\u001b[0m\n",
            "\n",
            "To send an Email with Data I/O, you need to fill the To field with the recipient's address, the Cc field with additional recipients, the Bcc field with blind carbon copy recipients, and the Subject field with the subject of the Email.\n"
          ]
        }
      ]
    },
    {
      "cell_type": "code",
      "source": [
        "question = \"List me the steps to create my own Amadeus Data I/O processor?\"\n",
        "\n",
        "answer = answer_question(question)\n",
        "\n",
        "print(answer[\"output_text\"])"
      ],
      "metadata": {
        "id": "dB5BTMlrjDdd",
        "outputId": "aae54b15-0398-4901-bf8e-ff2b09f28e3e",
        "colab": {
          "base_uri": "https://localhost:8080/"
        }
      },
      "execution_count": 17,
      "outputs": [
        {
          "output_type": "stream",
          "name": "stdout",
          "text": [
            "\n",
            "\n",
            "\u001b[1m> Entering new StuffDocumentsChain chain...\u001b[0m\n",
            "\n",
            "\n",
            "\u001b[1m> Entering new LLMChain chain...\u001b[0m\n",
            "Prompt after formatting:\n",
            "\u001b[32;1m\u001b[1;3mBelow is an instruction that describes a task. Write a response that appropriately completes the request.\n",
            "\n",
            "    Instruction:\n",
            "    You use a simple language to explain concepts.\n",
            "    You reply using only textual descriptions and code examples.\n",
            "\n",
            "    \n",
            "\n",
            "    Question: List me the steps to create my own Amadeus Data I/O processor?\n",
            "\n",
            "    Response:\n",
            "    \u001b[0m\n",
            "\n",
            "\u001b[1m> Finished chain.\u001b[0m\n",
            "\n",
            "\u001b[1m> Finished chain.\u001b[0m\n",
            "\n",
            "To create your own Amadeus Data I/O processor, first decide on your I/O architecture. You can choose to use the i2s/i4s I/O bus, the PCM I/O bus, the CAN bus or even Ethernet. After that, you have to locate an ARM board that has an SMD JTAG port. You will then have to wire the board. After that, you have to create a simple firmware that loads the Amadeus Data I/O processor API and connect it to the SMD port. Afterward, you can use the Amadeus Data I/O processor API to manage data on the connected bus.\n"
          ]
        }
      ]
    },
    {
      "cell_type": "code",
      "source": [
        "question = \"What are Pipes in Data I/O?\"\n",
        "\n",
        "answer = answer_question(question)\n",
        "\n",
        "print(answer[\"output_text\"])"
      ],
      "metadata": {
        "id": "hllRToAsjGX6",
        "outputId": "c633d1a2-28d4-480e-a483-497a80104274",
        "colab": {
          "base_uri": "https://localhost:8080/"
        }
      },
      "execution_count": 18,
      "outputs": [
        {
          "output_type": "stream",
          "name": "stdout",
          "text": [
            "\n",
            "\n",
            "\u001b[1m> Entering new StuffDocumentsChain chain...\u001b[0m\n",
            "\n",
            "\n",
            "\u001b[1m> Entering new LLMChain chain...\u001b[0m\n",
            "Prompt after formatting:\n",
            "\u001b[32;1m\u001b[1;3mBelow is an instruction that describes a task. Write a response that appropriately completes the request.\n",
            "\n",
            "    Instruction:\n",
            "    You use a simple language to explain concepts.\n",
            "    You reply using only textual descriptions and code examples.\n",
            "\n",
            "    \n",
            "\n",
            "    Question: What are Pipes in Data I/O?\n",
            "\n",
            "    Response:\n",
            "    \u001b[0m\n",
            "\n",
            "\u001b[1m> Finished chain.\u001b[0m\n",
            "\n",
            "\u001b[1m> Finished chain.\u001b[0m\n",
            "\n",
            "A pipe in data I/O is a connection between two processes.  Data can be sent to the process on one end and data can be received from the other end.  This is how work is done between many different processes.  So, pipes are used to send and receive data.  Pipes are often used in a loop.  Each process gets the data it sends to the other end of the pipe, so multiple processes can send data to each other.\n"
          ]
        }
      ]
    },
    {
      "cell_type": "code",
      "source": [
        "question = \"What are Distributors in Data I/O?\"\n",
        "\n",
        "answer = answer_question(question)\n",
        "\n",
        "print(answer[\"output_text\"])"
      ],
      "metadata": {
        "id": "PEfPoK1yjJk-",
        "outputId": "a144a8c8-6c4e-4867-9841-097f967f2444",
        "colab": {
          "base_uri": "https://localhost:8080/"
        }
      },
      "execution_count": 19,
      "outputs": [
        {
          "output_type": "stream",
          "name": "stdout",
          "text": [
            "\n",
            "\n",
            "\u001b[1m> Entering new StuffDocumentsChain chain...\u001b[0m\n",
            "\n",
            "\n",
            "\u001b[1m> Entering new LLMChain chain...\u001b[0m\n",
            "Prompt after formatting:\n",
            "\u001b[32;1m\u001b[1;3mBelow is an instruction that describes a task. Write a response that appropriately completes the request.\n",
            "\n",
            "    Instruction:\n",
            "    You use a simple language to explain concepts.\n",
            "    You reply using only textual descriptions and code examples.\n",
            "\n",
            "    \n",
            "\n",
            "    Question: What are Distributors in Data I/O?\n",
            "\n",
            "    Response:\n",
            "    \u001b[0m\n",
            "\n",
            "\u001b[1m> Finished chain.\u001b[0m\n",
            "\n",
            "\u001b[1m> Finished chain.\u001b[0m\n",
            "\n",
            "Distributors in Data I/O are systems that receive data from sources, process it, and then forward that processed data to a Data Lake Store. Distributors typically receive data in some form of structured and unstructured format, for example from a file, a cloud storage service, a database, or a network device. They transform the data in a proprietary format, add metadata, and then ship the processed data to the Data Lake Store.\n"
          ]
        }
      ]
    }
  ],
  "metadata": {
    "accelerator": "GPU",
    "colab": {
      "machine_shape": "hm",
      "provenance": [],
      "gpuType": "V100",
      "gpuClass": "premium"
    },
    "kernelspec": {
      "display_name": "Python 3",
      "name": "python3"
    },
    "language_info": {
      "name": "python"
    }
  },
  "nbformat": 4,
  "nbformat_minor": 0
}