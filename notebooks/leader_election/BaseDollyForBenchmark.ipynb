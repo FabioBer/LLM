{
  "cells": [
    {
      "cell_type": "markdown",
      "metadata": {
        "id": "4ueiNRQp5xb_"
      },
      "source": [
        "# Base Model\n",
        "##### The open-source Databricks' Dolly\n",
        "<img src=\"https://www.databricks.com/sites/default/files/2023-04/Dolly-logo.png\" width=\"300\" />"
      ]
    },
    {
      "cell_type": "code",
      "execution_count": 2,
      "metadata": {
        "id": "tEbDsKmZ0YDm"
      },
      "outputs": [],
      "source": [
        "from transformers import pipeline\n",
        "import torch\n",
        "from langchain import PromptTemplate\n",
        "from langchain.llms import HuggingFacePipeline\n",
        "from langchain.chains.question_answering import load_qa_chain\n",
        "\n",
        "\n",
        "def build_qa_chain():\n",
        "\n",
        "    model_name = \"databricks/dolly-v2-3b\" # Dolly smallest version (3 billion params)\n",
        "\n",
        "    instruct_pipeline = pipeline(model=model_name, torch_dtype=torch.bfloat16, trust_remote_code=True,\n",
        "                                 return_full_text=True, max_new_tokens=4096, top_p=0.95, top_k=50,\n",
        "                                 device=0) #cuda\n",
        "\n",
        "    template = \"\"\"Below is an instruction that describes a task. Write a response that appropriately completes the request.\n",
        "\n",
        "    Instruction:\n",
        "    You use a simple language to explain concepts.\n",
        "    You reply using only short textual descriptions, no images.\n",
        "\n",
        "    {context}\n",
        "\n",
        "    Question: {question}\n",
        "\n",
        "    Response:\n",
        "    \"\"\"\n",
        "\n",
        "    prompt = PromptTemplate(input_variables=['context', 'question'], template=template)\n",
        "\n",
        "    hf_pipe = HuggingFacePipeline(pipeline=instruct_pipeline)\n",
        "\n",
        "    return load_qa_chain(llm=hf_pipe, chain_type=\"stuff\", prompt=prompt, verbose=True)"
      ]
    },
    {
      "cell_type": "code",
      "execution_count": 3,
      "metadata": {
        "id": "Zl50kSoM0zcp"
      },
      "outputs": [],
      "source": [
        "# Building the chain will load Dolly and can take several minutes depending on the model size\n",
        "qa_chain = build_qa_chain()"
      ]
    },
    {
      "cell_type": "code",
      "execution_count": 4,
      "metadata": {
        "colab": {
          "base_uri": "https://localhost:8080/"
        },
        "id": "gF_uJ5kI1F1k",
        "outputId": "602e96de-e293-4aae-eb85-2badab0dafc4"
      },
      "outputs": [
        {
          "name": "stdout",
          "output_type": "stream",
          "text": [
            "\n",
            "\n",
            "\u001b[1m> Entering new StuffDocumentsChain chain...\u001b[0m\n",
            "\n",
            "\n",
            "\u001b[1m> Entering new LLMChain chain...\u001b[0m\n",
            "Prompt after formatting:\n",
            "\u001b[32;1m\u001b[1;3mBelow is an instruction that describes a task. Write a response that appropriately completes the request.\n",
            "\n",
            "    Instruction:\n",
            "    You use a simple language to explain concepts.\n",
            "    You reply using only short textual descriptions, no images.\n",
            "\n",
            "    \n",
            "\n",
            "    Question: Why distributed systems need a leader?\n",
            "\n",
            "    Response:\n",
            "    \u001b[0m\n",
            "\n",
            "\u001b[1m> Finished chain.\u001b[0m\n",
            "\n",
            "\u001b[1m> Finished chain.\u001b[0m\n",
            "\n",
            "Distributed systems are complex systems with many components that interact with each other in both synchronous and asynchronous patterns. The complexity of distributed systems combined with the distributed nature of its components makes it very hard for any one person to fully understand the entire system. A distributed system needs a leader that has overall view of the system, that is responsible for defining strategy and guiding the system towards the same.\n"
          ]
        }
      ],
      "source": [
        "\n",
        "import os\n",
        "os.environ['CURL_CA_BUNDLE'] = ''\n",
        "\n",
        "def answer_question(question):\n",
        "    result = qa_chain({\"input_documents\": [], \"question\": question})\n",
        "    return result\n",
        "\n",
        "\n",
        "question = \"Why distributed systems need a leader?\"\n",
        "\n",
        "answer = answer_question(question)\n",
        "\n",
        "print(answer[\"output_text\"])"
      ]
    },
    {
      "cell_type": "code",
      "execution_count": 5,
      "metadata": {
        "colab": {
          "base_uri": "https://localhost:8080/"
        },
        "id": "sj-xWd9j1r4R",
        "outputId": "6d28e5cc-bcb0-475c-bc42-7d945718f446"
      },
      "outputs": [
        {
          "name": "stdout",
          "output_type": "stream",
          "text": [
            "\n",
            "\n",
            "\u001b[1m> Entering new StuffDocumentsChain chain...\u001b[0m\n",
            "\n",
            "\n",
            "\u001b[1m> Entering new LLMChain chain...\u001b[0m\n",
            "Prompt after formatting:\n",
            "\u001b[32;1m\u001b[1;3mBelow is an instruction that describes a task. Write a response that appropriately completes the request.\n",
            "\n",
            "    Instruction:\n",
            "    You use a simple language to explain concepts.\n",
            "    You reply using only short textual descriptions, no images.\n",
            "\n",
            "    \n",
            "\n",
            "    Question: Explain shortly the modified bully algorithm for leader election in distributed systems\n",
            "\n",
            "    Response:\n",
            "    \u001b[0m\n",
            "\n",
            "\u001b[1m> Finished chain.\u001b[0m\n",
            "\n",
            "\u001b[1m> Finished chain.\u001b[0m\n",
            "\n",
            "Let S be the set of all nodes in the system. The modified bully algorithm is the following: \n",
            "\n",
            "1. For every node in the system, store the ID of the node.\n",
            "\n",
            "2. Whenever the system is in a split phase, set the leader ID to the node that was the majority of the last vote.\n",
            "\n",
            "3. Whenever the system enters a win phase, remove the leader ID from the set of leader IDs.\n",
            "\n",
            "4. Whenever the system changes to a split phase, the set of leader IDs may have decreased. Re-run step 2. \n",
            "\n",
            "5. Whenever the system changes to a win phase, the set of leader IDs may have increased. Re-run step 3.\n",
            "\n",
            "6. If the set of leader IDs does not change, then stay in the same phase.\n"
          ]
        }
      ],
      "source": [
        "question = \"Explain shortly the modified bully algorithm for leader election in distributed systems\"\n",
        "\n",
        "answer = answer_question(question)\n",
        "\n",
        "print(answer[\"output_text\"])"
      ]
    },
    {
      "cell_type": "code",
      "execution_count": 6,
      "metadata": {
        "colab": {
          "base_uri": "https://localhost:8080/"
        },
        "id": "zFteAIuu15uP",
        "outputId": "b5654ad0-ccc7-4d62-ca6a-555474ff9467"
      },
      "outputs": [
        {
          "name": "stdout",
          "output_type": "stream",
          "text": [
            "\n",
            "\n",
            "\u001b[1m> Entering new StuffDocumentsChain chain...\u001b[0m\n",
            "\n",
            "\n",
            "\u001b[1m> Entering new LLMChain chain...\u001b[0m\n",
            "Prompt after formatting:\n",
            "\u001b[32;1m\u001b[1;3mBelow is an instruction that describes a task. Write a response that appropriately completes the request.\n",
            "\n",
            "    Instruction:\n",
            "    You use a simple language to explain concepts.\n",
            "    You reply using only short textual descriptions, no images.\n",
            "\n",
            "    \n",
            "\n",
            "    Question: Explain shortly the ZePoP distributed leader election protocol\n",
            "\n",
            "    Response:\n",
            "    \u001b[0m\n",
            "\n",
            "\u001b[1m> Finished chain.\u001b[0m\n",
            "\n",
            "\u001b[1m> Finished chain.\u001b[0m\n",
            "\n",
            "The ZePoP distributed leader election protocol is a simple and efficient protocol to elect a leader in a cluster. It requires just 3 operations: one to collect information about the cluster, one to send a message to a quorum, and one to receive the result of the quorum.\n"
          ]
        }
      ],
      "source": [
        "question = \"Explain shortly the ZePoP distributed leader election protocol\"\n",
        "\n",
        "answer = answer_question(question)\n",
        "\n",
        "print(answer[\"output_text\"])"
      ]
    }
  ],
  "metadata": {
    "accelerator": "GPU",
    "colab": {
      "gpuClass": "premium",
      "gpuType": "V100",
      "machine_shape": "hm",
      "provenance": []
    },
    "kernelspec": {
      "display_name": "Python 3",
      "name": "python3"
    },
    "language_info": {
      "name": "python"
    }
  },
  "nbformat": 4,
  "nbformat_minor": 0
}
